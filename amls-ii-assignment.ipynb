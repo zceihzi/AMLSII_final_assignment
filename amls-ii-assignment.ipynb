{
 "cells": [
  {
   "cell_type": "code",
   "execution_count": 1,
   "metadata": {},
   "outputs": [],
   "source": [
    "# !pip install progressbar\n",
    "# !pip install contractions\n",
    "\n",
    "# !pip install spacy\n",
    "# !pip install gensim \n",
    "# !pip install torch==1.4.0 torchvision==0.5.0 -f https://download.pytorch.org/whl/cu100/torch_stable.html\n",
    "# !pip install fastBPE regex requests sacremoses subword_nmt\n",
    "# !pip install -q hydra-core\n",
    "# !pip install tqdm\n",
    "\n",
    "# !pip install textattack -q\n",
    "# !pip install GPUtil\n",
    "\n",
    "# !python -m spacy download en_core_web_sm\n",
    "# !python -m spacy download en_core_web_lg\n",
    "# !python -m textblob.download_corpora\n",
    "\n",
    "# !wget --quiet https://raw.githubusercontent.com/tensorflow/models/master/official/nlp/bert/tokenization.py\n",
    "    \n",
    "import warnings\n",
    "warnings.filterwarnings('ignore')\n",
    "\n",
    "import itertools\n",
    "import sklearn\n",
    "import io\n",
    "import tqdm\n",
    "from progressbar import ProgressBar\n",
    "\n",
    "import pandas as pd\n",
    "import numpy as np\n",
    "from random import randint\n",
    "import os\n",
    "import re\n",
    "\n",
    "\n",
    "import contractions\n",
    "import unicodedata\n",
    "# from wordcloud import wordcloud\n",
    "# from textblob import TextBlob\n",
    "import joblib\n",
    "\n",
    "# Visualisation libraries\n",
    "import seaborn as sns\n",
    "import matplotlib.pyplot as plt\n",
    "\n",
    "# Deep Learning \n",
    "import tensorflow as tf\n",
    "import keras\n",
    "from keras.models import Model,Sequential\n",
    "\n",
    "from keras.layers import Activation,Flatten,Dense,Embedding,Input,GlobalAveragePooling1D,GlobalMaxPool1D,Conv1D,MaxPooling1D,concatenate,SpatialDropout1D\n",
    "from keras.layers import LSTM,GRU,Bidirectional, Dropout,Permute,multiply,Layer\n",
    "from keras.utils import to_categorical\n",
    "from tensorflow.keras.callbacks import EarlyStopping\n",
    "\n",
    "from keras.preprocessing.text import Tokenizer\n",
    "from keras.preprocessing.sequence import pad_sequences\n",
    "from keras.optimizers import Adam\n",
    "import keras.backend as K\n",
    "\n",
    "import torch\n",
    "import tensorflow_hub as hub\n",
    "import tokenization\n",
    "from transformers import BertTokenizer\n",
    "from transformers import TFBertModel,AutoTokenizer,BertForMaskedLM\n",
    "\n",
    "# Used to standardise the date and undertake PCA\n",
    "from sklearn.preprocessing import StandardScaler, MinMaxScaler\n",
    "from sklearn.pipeline import Pipeline\n",
    "\n",
    "# Scikit-learn imports for data encoding and partitionning\n",
    "from sklearn.model_selection import train_test_split\n",
    "from sklearn.feature_extraction.text import TfidfTransformer\n",
    "from sklearn.feature_extraction.text import CountVectorizer,TfidfVectorizer\n",
    "from sklearn.preprocessing import LabelEncoder\n",
    "from sklearn.linear_model import LogisticRegression\n",
    "from sklearn.decomposition import TruncatedSVD as TSVD\n",
    "\n",
    "from sklearn.metrics import confusion_matrix\n",
    "from sklearn.model_selection import GridSearchCV,learning_curve\n",
    "from sklearn.metrics import accuracy_score\n",
    "from sklearn.metrics import (confusion_matrix,roc_auc_score, precision_recall_curve, auc,\n",
    "                             roc_curve, recall_score,accuracy_score, classification_report, f1_score,\n",
    "                             precision_recall_fscore_support, log_loss)\n",
    "\n",
    "# Spacy imports\n",
    "import spacy\n",
    "from spacy.lang.en.stop_words import STOP_WORDS as stopwords\n",
    "\n",
    "# Gensim Imports\n",
    "import gensim.downloader\n",
    "from gensim.models import Word2Vec\n",
    "from gensim.models import KeyedVectors\n",
    "\n",
    "# NLTK \n",
    "from nltk import word_tokenize\n",
    "from nltk.corpus import stopwords\n",
    "\n",
    "# from textattack.augmentation import WordNetAugmenter,EmbeddingAugmenter"
   ]
  },
  {
   "cell_type": "code",
   "execution_count": 2,
   "metadata": {},
   "outputs": [],
   "source": [
    "# ## Trick to delete file \n",
    "# os.remove(\"/kaggle/working/submission_simple_LSTM_model_multiclass.csv\")\n",
    "# os.remove(\"/kaggle/working/X_word2Vec.pkl\")\n",
    "\n",
    "# ## Delete folder\n",
    "# shutil.rmtree(\"/kaggle/working/logs\" )\n",
    "\n",
    "## Trick to find if tensorboard in running locally and kill the port \n",
    "# ps -ef|grep tensorboard\n",
    "# kill -9 <pid>\n",
    "\n",
    "## Clear logs and start tensorboard on jupiter\n",
    "# !rm -rf ./logs/ \n",
    "# %reload_ext tensorboard"
   ]
  },
  {
   "cell_type": "code",
   "execution_count": 3,
   "metadata": {},
   "outputs": [],
   "source": [
    "def plot_class_distribution(field):\n",
    "    print(field.value_counts())\n",
    "    sns.countplot(x=field).set_title('Visualisation of the dataset class distribution')\n",
    "    plt.show()\n",
    "    \n",
    "def data_cleaning(df):\n",
    "    df[\"review\"] = clean_sentences(df[\"review\"],remove_stop_words=False)\n",
    "    df = extract_most_uncommon_words(df)\n",
    "    return df\n",
    "\n",
    "def remove_accented_chars(x):\n",
    "    x = unicodedata.normalize('NFKD', x).encode('ascii', 'ignore').decode('utf-8', 'ignore')\n",
    "    return x\n",
    "\n",
    "def clean_sentences(review,remove_stop_words=False):\n",
    "    #Lower Case Conversion \n",
    "    review = review.apply(lambda x: str(x).lower())\n",
    "    # Contraction to Expansion \n",
    "    review = review.apply(lambda x: contractions.fix(str(x)))\n",
    "    # Remove Emails and URL's from strings\n",
    "    review = review.apply(lambda x: re.sub(r'([a-z0-9+._-]+@[a-z0-9+._-]+\\.[a-z0-9+_-]+)',\"\", x))\n",
    "    review = review.apply(lambda x: re.sub(r'(http|https|ftp|ssh)://([\\w_-]+(?:(?:\\.[\\w_-]+)+))([\\w.,@?^=%&:/~+#-]*[\\w@?^=%&/~+#-])?', '' , x))\n",
    "    # Remove HTML tags\n",
    "    review = review.apply(lambda x: re.sub('<.*?>',\"\",x))\n",
    "    # Remove trailing whitespace\n",
    "    review = review.apply(lambda x: ' '.join(x.split()))\n",
    "    # Remove special characters and punctuation\n",
    "    review = review.apply(lambda x: re.sub(r'[^\\w ]+', \"\", x))\n",
    "    # Remove accented characters\n",
    "    review = review.apply(lambda x: remove_accented_chars(x))\n",
    "    if remove_stop_words is True:\n",
    "        # Remove Stop Words \n",
    "        review = review.apply(lambda x: ' '.join([t for t in x.split() if t not in stopwords]))\n",
    "    return review\n",
    "\n",
    "def extract_most_uncommon_words(df):\n",
    "    text = ' '.join(df[\"review\"])\n",
    "    text = text.split()\n",
    "    freq_comm = pd.Series(text).value_counts()\n",
    "    uncommon_words= freq_comm[freq_comm == 1]\n",
    "    df['review'] = df['review'].apply(lambda x: ' '.join([t for t in x.split() if t not in uncommon_words]))\n",
    "    return df\n",
    "\n",
    "def apply_TSVD(X_train,X_test,plot):\n",
    "    tsvd = TSVD(n_components=9000, random_state=0)\n",
    "    print('Initial train matrix shape is: ', X_train.shape)\n",
    "    print('Initial test shape is: ', X_test.shape)\n",
    "    X_train = tsvd.fit_transform(X_train)\n",
    "    X_test = tsvd.transform(X_test)\n",
    "    print('PCA transformed train shape is: ', X_train.shape)\n",
    "    print('PCA transformed test shape is: ', X_test.shape)\n",
    "    if plot is True:\n",
    "        plt.plot(np.cumsum(tsvd.explained_variance_ratio_))\n",
    "        plt.show()\n",
    "    return X_train,X_test,tsvd\n",
    "\n",
    "def back_translation_augmentation(X_train,y_train):\n",
    "    class0_rev=[]\n",
    "    class0_sen=[]\n",
    "    \n",
    "    class1_rev=[]\n",
    "    class1_sen=[]\n",
    "    \n",
    "    class3_rev=[]\n",
    "    class3_sen=[]\n",
    "    \n",
    "    class4_rev=[]\n",
    "    class4_sen=[]\n",
    "    \n",
    "    augmenter = WordNetAugmenter()\n",
    "    \n",
    "    data=pd.DataFrame(X_train)\n",
    "    data['sentiment']= y_train\n",
    "    data = data.reset_index(drop=True)    \n",
    "    df_class_0_threshold = int(len(data[data[\"sentiment\"]==0]))\n",
    "    df_class_1_threshold = int(len(data[data[\"sentiment\"]==1])/2)\n",
    "    df_class_2_threshold = int(len(data[data[\"sentiment\"]==2]))\n",
    "    df_class_3_threshold = int(len(data[data[\"sentiment\"]==3])/2)\n",
    "    df_class_4_threshold = int(len(data[data[\"sentiment\"]==4]))\n",
    "\n",
    "\n",
    "    data[\"review\"] = clean_sentences(data[\"review\"],remove_stop_words=False)\n",
    "    \n",
    "    df_class_0 = data[data[\"sentiment\"]==0].reset_index(drop=True)    \n",
    "    df_class_1 = data[data[\"sentiment\"]==1].reset_index(drop=True)\n",
    "    df_class_2 = data[data[\"sentiment\"]==2].reset_index(drop=True)\n",
    "    df_class_3 = data[data[\"sentiment\"]==3].reset_index(drop=True)\n",
    "    df_class_4 = data[data[\"sentiment\"]==4].reset_index(drop=True)\n",
    "        \n",
    "    backTranslation = True\n",
    "\n",
    "    try:\n",
    "        # torch.hub.list('pytorch/fairseq')  # [..., 'transformer.wmt16.en-de', ... ]\n",
    "        # Round-trip translations between English and German:\n",
    "        en2de = torch.hub.load('pytorch/fairseq', 'transformer.wmt19.en-de.single_model', tokenizer='moses', bpe='fastbpe')\n",
    "        en2de.cuda()\n",
    "\n",
    "        de2en = torch.hub.load('pytorch/fairseq', 'transformer.wmt19.de-en.single_model', tokenizer='moses', bpe='fastbpe')\n",
    "        de2en.cuda()\n",
    "    except:\n",
    "        backTranslation = False\n",
    "        \n",
    "    for i in range(df_class_0_threshold):\n",
    "        paraphrase = df_class_0['review'].loc[i]\n",
    "        if backTranslation is True:\n",
    "            paraphrase = de2en.translate(en2de.translate(paraphrase))\n",
    "        paraphrase= augmenter.augment(paraphrase)\n",
    "        class0_rev.append(paraphrase[0])\n",
    "        class0_sen.append(df_class_0['sentiment'].loc[i])\n",
    "        print(f\"Running {i}th sentence out of {df_class_0_threshold} for class 0\")  \n",
    "    for i in range(df_class_1_threshold):\n",
    "        paraphrase = df_class_1['review'].loc[i]\n",
    "        if backTranslation is True:\n",
    "            paraphrase = de2en.translate(en2de.translate(paraphrase))\n",
    "        paraphrase= augmenter.augment(paraphrase)\n",
    "        class1_rev.append(paraphrase[0])\n",
    "        class1_sen.append(df_class_1['sentiment'].loc[i])        \n",
    "        print(f\"Running {i}th sentence out of {df_class_1_threshold} for class 1\")  \n",
    "    for i in range(df_class_3_threshold):\n",
    "        paraphrase = df_class_3['review'].loc[i]\n",
    "        if backTranslation is True:\n",
    "            paraphrase = de2en.translate(en2de.translate(paraphrase))\n",
    "        paraphrase= augmenter.augment(paraphrase)\n",
    "        class3_rev.append(paraphrase[0])\n",
    "        class3_sen.append(df_class_3['sentiment'].loc[i])        \n",
    "        print(f\"Running {i}th sentence out of {df_class_3_threshold} for class 3\" )  \n",
    "    for i in range(df_class_4_threshold):\n",
    "        paraphrase = df_class_4['review'].loc[i]\n",
    "        if backTranslation is True:\n",
    "            paraphrase = de2en.translate(en2de.translate(paraphrase))\n",
    "        paraphrase= augmenter.augment(paraphrase)\n",
    "        class4_rev.append(paraphrase[0])\n",
    "        class4_sen.append(df_class_4['sentiment'].loc[i])        \n",
    "        print(f\"Running {i}th sentence out of {df_class_4_threshold} for class 4\")  \n",
    "\n",
    "        class0_aug=pd.DataFrame({'review':class0_rev, 'sentiment':class0_sen})\n",
    "        class1_aug=pd.DataFrame({'review':class1_rev, 'sentiment':class1_sen})\n",
    "        class3_aug=pd.DataFrame({'review':class3_rev, 'sentiment':class3_sen})\n",
    "        class4_aug=pd.DataFrame({'review':class4_rev, 'sentiment':class4_sen})\n",
    "        \n",
    "    return class0_aug,class1_aug,class3_aug,class4_aug\n",
    "\n",
    "def Tfidf_transformation(df,ngram_range):\n",
    "    X_vect= TfidfVectorizer(stop_words='english',ngram_range=ngram_range)\n",
    "    X= X_vect.fit_transform(df[\"review\"])\n",
    "    print(\"Before transformation: The data had shape: \", df[\"review\"].shape)\n",
    "    print(\"After transformation: The data has shape: \",  X.toarray().shape)\n",
    "    return X\n",
    "\n",
    "def return_best_tfidf(df):\n",
    "    pipe = Pipeline([('tfidf', TfidfVectorizer()),\n",
    "                     ('clf', LogisticRegression(max_iter = 10000))])\n",
    "    hyperparameters = {'tfidf__ngram_range': ((1,1), (1,2), (1,3),(1,4))}\n",
    "    clf = GridSearchCV(pipe, hyperparameters, n_jobs=-1, verbose=2)\n",
    "    clf.fit(df[\"review\"], df[\"sentiment\"])\n",
    "    print(\"The best ngram range parameters according to GridSearchCV: \",clf.best_params_)\n",
    "    return clf.best_params_\n",
    "\n",
    "def save_to_pkl(filename,variable):\n",
    "    file=str(filename)  \n",
    "    joblib.dump(variable, file)\n",
    "    \n",
    "def load_pkl(path):\n",
    "    file = joblib.load(path)\n",
    "    return file\n",
    "\n",
    "def word2Vec_transform(df,save_pkl):\n",
    "    temp=[]\n",
    "    pbar = ProgressBar()\n",
    "    nlp = spacy.load('en_core_web_lg')\n",
    "    for i in pbar(df[\"review\"]):\n",
    "        temp.append(nlp(i).vector)\n",
    "    if save_pkl is True:\n",
    "        save_to_pkl(\"X_word2Vec.pkl\",np.asarray(temp))\n",
    "    return np.asarray(temp)\n",
    "\n",
    "def load_pretrained_embedding_model(df,df_submission,X_train,X_val,X_test,EMBEDDING_DIM, model):\n",
    "    # Instantiate the tokenizer object\n",
    "    tokenizer_obj = Tokenizer()\n",
    "#   total_reviews = df.review\n",
    "    total_reviews = pd.concat([df_train.review,df_submission.review])\n",
    "    tokenizer_obj.fit_on_texts(total_reviews)\n",
    "\n",
    "    # Pad sequences\n",
    "    MAX_SEQUENCE_LENGTH = max([len(s.split()) for s in total_reviews])\n",
    "    print(\"Maximum sentence lenght: \", MAX_SEQUENCE_LENGTH)\n",
    "\n",
    "    # define the vocabulary size and number of unique tokens in the corpus\n",
    "    MAX_VOCAB_SIZE = len(tokenizer_obj.word_index)+1\n",
    "    word2idx = tokenizer_obj.word_index\n",
    "    print('Found %s unique tokens in the dataset.' % len(word2idx))\n",
    "\n",
    "    # prepare text samples and their labels\n",
    "    X_train_sentences = X_train\n",
    "    X_train_sequences = tokenizer_obj.texts_to_sequences(X_train_sentences)\n",
    "    \n",
    "    # prepare validation samples and their labels\n",
    "    X_val_sentences = X_val\n",
    "    X_val_sequences = tokenizer_obj.texts_to_sequences(X_val_sentences)\n",
    "    \n",
    "    # prepare validation samples and their labels\n",
    "    X_test_sentences = X_test\n",
    "    X_test_sequences = tokenizer_obj.texts_to_sequences(X_test_sentences)\n",
    "    \n",
    "    # prepare Kaggle unseen data and its labels    \n",
    "    X_submission_sentences = df_submission[\"review\"].values\n",
    "    X_submission_sequences = tokenizer_obj.texts_to_sequences(X_submission_sentences)    \n",
    "\n",
    "    # Load pretrained embedding model  \n",
    "    try: \n",
    "        print('Loading word vectors from server...')\n",
    "        w2v_model = KeyedVectors.load(\"gensim-embeddings-dataset/GoogleNews-vectors-negative300.gensim\", mmap='r')\n",
    "    except FileNotFoundError:\n",
    "        print('Loading word vectors from local saved file...')\n",
    "        w2v_model = gensim.downloader.load(model)\n",
    "        word_vectors = w2v_model\n",
    "        word_vectors.save(str(model)+\".wordvectors\")\n",
    "\n",
    "    # pad sequences so that we get a N x T matrix\n",
    "    X_train = pad_sequences(X_train_sequences, maxlen=MAX_SEQUENCE_LENGTH)\n",
    "    print('Shape of X_train data tensor:', X_train.shape)\n",
    "    \n",
    "    # pad sequences so that we get a N x T matrix\n",
    "    X_val = pad_sequences(X_val_sequences, maxlen=MAX_SEQUENCE_LENGTH)\n",
    "    print('Shape of X_val data tensor:', X_val.shape)\n",
    "    \n",
    "    # pad sequences so that we get a N x T matrix\n",
    "    X_test = pad_sequences(X_test_sequences, maxlen=MAX_SEQUENCE_LENGTH)\n",
    "    print('Shape of X_test data tensor:', X_test.shape)\n",
    "    \n",
    "    # pad sequences so that we get a N x T matrix\n",
    "    X_submission = pad_sequences(X_submission_sequences, maxlen=MAX_SEQUENCE_LENGTH)\n",
    "    print('Shape of X_submission data tensor:', X_submission.shape)\n",
    "\n",
    "    # prepare embedding matrix\n",
    "    print('Filling pre-trained embeddings...')\n",
    "    embedding_matrix = np.zeros((MAX_VOCAB_SIZE, EMBEDDING_DIM))\n",
    "    for word, i in tokenizer_obj.word_index.items():\n",
    "        if word in w2v_model:\n",
    "            embedding_matrix[i] = w2v_model[word]\n",
    "    print(\"The final embedding matrix has shape: \", embedding_matrix.shape)\n",
    "    \n",
    "    return EMBEDDING_DIM,MAX_SEQUENCE_LENGTH,MAX_VOCAB_SIZE,w2v_model,embedding_matrix,X_train,X_val,X_test,X_submission\n",
    "\n",
    "def train_Word2Vec_model(EMBEDDING_DIM = 100):\n",
    "    # Instantiate the tokenizer object\n",
    "    tokenizer_obj = Tokenizer()\n",
    "    total_reviews = df.review\n",
    "    tokenizer_obj.fit_on_texts(total_reviews)\n",
    "\n",
    "    # Pad sequences\n",
    "    MAX_SEQUENCE_LENGTH = max([len(s.split()) for s in total_reviews])\n",
    "    print(\"Maximum sentence lenght: \", MAX_SEQUENCE_LENGTH)\n",
    "\n",
    "    # define the vocabulary size and number of unique tokens in the corpus\n",
    "    MAX_VOCAB_SIZE = len(tokenizer_obj.word_index)+1\n",
    "    word2idx = tokenizer_obj.word_index\n",
    "    print('Found %s unique tokens in the dataset.' % len(word2idx))\n",
    "\n",
    "    # prepare text samples and their labels\n",
    "    sentences = df[\"review\"].fillna(\"DUMMY_VALUE\").values\n",
    "    sequences = tokenizer_obj.texts_to_sequences(sentences)\n",
    "\n",
    "    w2v_model = Word2Vec(min_count=10,\n",
    "                         window=2,\n",
    "                         size=EMBEDDING_DIM,\n",
    "                         sample=6e-5, \n",
    "                         alpha=0.03, \n",
    "                         min_alpha=0.007, \n",
    "                         negative=20)\n",
    "\n",
    "    # Train Word2vec on the data corpus\n",
    "    print('Training word vectors...')\n",
    "    documents = [_text.split() for _text in df.review] \n",
    "    w2v_model.build_vocab(documents)\n",
    "    words = w2v_model.wv.vocab.keys()\n",
    "    vocab_size = len(words)\n",
    "    print(\"Vocab size\", vocab_size)\n",
    "    w2v_model.train(documents, total_examples=w2v_model.corpus_count, epochs=30)\n",
    "    \n",
    "     # pad sequences so that we get a N x T matrix\n",
    "    data = pad_sequences(sequences, maxlen=MAX_SEQUENCE_LENGTH)\n",
    "    print('Shape of data tensor:', data.shape)\n",
    "\n",
    "    # prepare embedding matrix\n",
    "    print('Filling pre-trained embeddings...')\n",
    "    embedding_matrix = np.zeros((MAX_VOCAB_SIZE, EMBEDDING_DIM))\n",
    "    for word, i in tokenizer_obj.word_index.items():\n",
    "        if word in w2v_model.wv:\n",
    "            embedding_matrix[i] = w2v_model.wv[word]\n",
    "    print(\"The final embedding matrix has shape: \", embedding_matrix.shape)\n",
    "    \n",
    "    return EMBEDDING_DIM,MAX_SEQUENCE_LENGTH,MAX_VOCAB_SIZE, data,w2v_model,embedding_matrix\n",
    "\n",
    "def bert_encode(texts, tokenizer, max_len):\n",
    "    all_tokens = []\n",
    "    all_masks = []\n",
    "    all_segments = []\n",
    "    \n",
    "    for text in texts:\n",
    "        text = tokenizer.tokenize(text)\n",
    "            \n",
    "        text = text[:max_len-2]\n",
    "        input_sequence = [\"[CLS]\"] + text + [\"[SEP]\"]\n",
    "        pad_len = max_len - len(input_sequence)\n",
    "        \n",
    "        tokens = tokenizer.convert_tokens_to_ids(input_sequence) + [0] * pad_len\n",
    "        pad_masks = [1] * len(input_sequence) + [0] * pad_len\n",
    "        segment_ids = [0] * max_len\n",
    "        \n",
    "        all_tokens.append(tokens)\n",
    "        all_masks.append(pad_masks)\n",
    "        all_segments.append(segment_ids)\n",
    "    return np.array(all_tokens), np.array(all_masks), np.array(all_segments)\n",
    "\n",
    "\n",
    "def data_partitioning(X,y,test_size):\n",
    "    train_ratio = 0.70\n",
    "    validation_ratio = 0.15\n",
    "    test_ratio = 0.15\n",
    "\n",
    "    # train is now 75% of the entire data set\n",
    "    # the _junk suffix means that we drop that variable completely\n",
    "    X_train, X_test, y_train, y_test = train_test_split(X,y, test_size=1 - train_ratio)\n",
    "\n",
    "    # test is now 10% of the initial data set\n",
    "    # validation is now 15% of the initial data set\n",
    "    X_val, X_test, y_val, y_test = train_test_split(X_test, y_test, test_size=test_ratio/(test_ratio + validation_ratio)) \n",
    "\n",
    "    print(\"Overall class distribution in this dataset\")\n",
    "    print(pd.Series(y_train).value_counts())\n",
    "    print(pd.Series(y_val).value_counts())\n",
    "    print(\"\")\n",
    "    print(\"X_train has shape:\", X_train.shape)\n",
    "    print(\"y_train has shape:\", X_train.shape)\n",
    "    print(\"X_val has shape:\", X_val.shape)\n",
    "    print(\"y_val has shape:\", y_val.shape)\n",
    "    print(\"X_test has shape:\", X_test.shape)\n",
    "    print(\"y_test has shape:\", y_test.shape)\n",
    "    return X_train,X_val,X_test,y_train,y_val,y_test\n",
    "\n",
    "\n",
    "def train_deep_model(model,X_train, y_train, X_val, y_val, BATCH_SIZE, EPOCHS, plot, callback,model_name):\n",
    "    # load pre-trained word embeddings into an Embedding layer\n",
    "    # the trainable parameter is set to False so as to keep the embeddings fixed\n",
    "    if callback is True:\n",
    "        logdir = os.path.join(\"logs/\"+str(model_name))        \n",
    "        tensorboard_callback = tf.keras.callbacks.TensorBoard(logdir, histogram_freq=1)\n",
    "        cm_callback = keras.callbacks.LambdaCallback(on_epoch_end=log_confusion_matrix)\n",
    "\n",
    "        history = model.fit(X_train,\n",
    "                  to_categorical(y_train),\n",
    "                  batch_size=BATCH_SIZE,\n",
    "                  epochs=EPOCHS,\n",
    "                  validation_data=(X_val,to_categorical(y_val)),\n",
    "                  callbacks=[tensorboard_callback,cm_callback])\n",
    "        \n",
    "    else:\n",
    "        history = model.fit(X_train,\n",
    "                  to_categorical(y_train),\n",
    "                  batch_size=BATCH_SIZE,\n",
    "                  epochs=EPOCHS,\n",
    "                  validation_data=(X_val,to_categorical(y_val)))\n",
    "\n",
    "    if plot is True:\n",
    "        fig,(ax) = plt.subplots(1, 2, figsize=(13,4))\n",
    "        ax[0].set_title(\"Training and Validation Accuracy\")\n",
    "        ax[0].plot(history.history['loss'], label='loss')\n",
    "        ax[0].plot(history.history['val_loss'], label='val_loss')\n",
    "        ax[0].legend(loc='upper right')\n",
    "\n",
    "        ax[1].set_title(\"Training and Validation Accuracy\")\n",
    "        ax[1].plot(history.history['accuracy'], label='acc')\n",
    "        ax[1].plot(history.history['val_accuracy'], label='val_acc')\n",
    "        ax[1].legend(loc='lower right')\n",
    "        plt.show()\n",
    "    return model\n",
    "\n",
    "def train_bert_model(model,X_train, y_train, X_val, y_val, BATCH_SIZE, EPOCHS, plot, callback,model_name):\n",
    "    # load pre-trained word embeddings into an Embedding layer\n",
    "    # the trainable parameter is set to False so as to keep the embeddings fixed\n",
    "    if callback is True:\n",
    "        logdir = os.path.join(\"logs/\"+str(model_name))        \n",
    "        \n",
    "        checkpoint = tf.keras.callbacks.ModelCheckpoint('bert_model.h5', monitor='val_accuracy', save_best_only=True, verbose=1)\n",
    "        earlystopping = tf.keras.callbacks.EarlyStopping(monitor='val_accuracy', patience=5, verbose=1)\n",
    "\n",
    "        history = model.fit(X_train,\n",
    "                  to_categorical(y_train),\n",
    "                  batch_size=BATCH_SIZE,\n",
    "                  epochs=EPOCHS,\n",
    "                  validation_data=(X_val,to_categorical(y_val)),\n",
    "                  callbacks=[checkpoint,earlystopping])\n",
    "        \n",
    "    else:\n",
    "        history = model.fit(X_train,\n",
    "                  to_categorical(y_train),\n",
    "                  batch_size=BATCH_SIZE,\n",
    "                  epochs=EPOCHS,\n",
    "                  validation_data=(X_val,to_categorical(y_val)))\n",
    "\n",
    "    if plot is True:\n",
    "        fig,(ax) = plt.subplots(1, 2, figsize=(13,4))\n",
    "        ax[0].set_title(\"Training and Validation Accuracy\")\n",
    "        ax[0].plot(history.history['loss'], label='loss')\n",
    "        ax[0].plot(history.history['val_loss'], label='val_loss')\n",
    "        ax[0].legend(loc='upper right')\n",
    "\n",
    "        ax[1].set_title(\"Training and Validation Accuracy\")\n",
    "        ax[1].plot(history.history['accuracy'], label='acc')\n",
    "        ax[1].plot(history.history['val_accuracy'], label='val_acc')\n",
    "        ax[1].legend(loc='lower right')\n",
    "        plt.show()\n",
    "    return model\n",
    "\n",
    "def plot_confusion_matrix(cm):\n",
    "    #class_names = [\"Negative\",\"Positive\"]\n",
    "    #class_names = [\"Negative\",\"Neutral\",\"Positive\"]\n",
    "    class_names = [\"Very Negative\",\"Negative\",\"Neutral\",\"Positive\", \"Very Positive\"]\n",
    "    figure = plt.figure(figsize=(8, 8))\n",
    "    plt.imshow(cm, interpolation='nearest', cmap=plt.cm.Blues)\n",
    "    plt.title(\"Confusion matrix\")\n",
    "    plt.colorbar()\n",
    "    tick_marks = np.arange(len(class_names))\n",
    "    plt.xticks(tick_marks, class_names, rotation=45)\n",
    "    plt.yticks(tick_marks, class_names)\n",
    "\n",
    "    # Compute the labels from the normalized confusion matrix.\n",
    "    labels = np.around(cm.astype('float') / cm.sum(axis=1)[:, np.newaxis], decimals=2)\n",
    "\n",
    "    # Use white text if squares are dark; otherwise black.\n",
    "    threshold = cm.max() / 2.\n",
    "    for i, j in itertools.product(range(cm.shape[0]), range(cm.shape[1])):\n",
    "        color = \"white\" if cm[i, j] > threshold else \"black\"\n",
    "        plt.text(j, i, labels[i, j], horizontalalignment=\"center\", color=color)\n",
    "\n",
    "    plt.tight_layout()\n",
    "    plt.ylabel('True label')\n",
    "    plt.xlabel('Predicted label')\n",
    "    return figure\n",
    "      \n",
    "def plot_to_image(figure):\n",
    "    # Save the plot to a PNG in memory.\n",
    "    buf = io.BytesIO()\n",
    "    plt.savefig(buf, format='png')\n",
    "    # Closing the figure prevents it from being displayed directly inside\n",
    "    # the notebook.\n",
    "    plt.close(figure)\n",
    "    buf.seek(0)\n",
    "    # Convert PNG buffer to TF image\n",
    "    image = tf.image.decode_png(buf.getvalue(), channels=4)\n",
    "    # Add the batch dimension\n",
    "    image = tf.expand_dims(image, 0)\n",
    "    return image\n",
    "\n",
    "def log_confusion_matrix(epoch, logs):\n",
    "  # Use the model to predict the values from the validation dataset.\n",
    "    test_pred_raw = model.predict(X_val)\n",
    "    test_pred = np.argmax(test_pred_raw, axis=1)\n",
    "    # Calculate the confusion matrix.\n",
    "    cm = sklearn.metrics.confusion_matrix(y_val, test_pred)\n",
    "    # Log the confusion matrix as an image summary.\n",
    "    figure = plot_confusion_matrix(cm)\n",
    "    cm_image = plot_to_image(figure)\n",
    "    logdir = os.path.join(\"logs/\"+str(model_name))        \n",
    "    file_writer_cm = tf.summary.create_file_writer(logdir + '/cm')\n",
    "    # Log the confusion matrix as an image summary.\n",
    "    with file_writer_cm.as_default():\n",
    "        tf.summary.image(\"Confusion Matrix\", cm_image, step=epoch)\n",
    "        \n",
    "def plot_confusion_matrix_test(y_test,y_pred, multiclass):\n",
    "    data = confusion_matrix(y_test, y_pred)\n",
    "    if multiclass == 2:\n",
    "        labels = [\"Negative\",\"Positive\"]\n",
    "    if multiclass == 3:\n",
    "        labels = [\"Negative\",\"Neutral\",\"Positive\"]\n",
    "    if multiclass == 5:\n",
    "        labels = [\"Very Negative\",\"Negative\",\"Neutral\",\"Positive\", \"Very Positive\"]\n",
    "    df_cm = pd.DataFrame(data, columns=labels, index = labels)\n",
    "    df_cm.index.name = 'Actual'\n",
    "    df_cm.columns.name = 'Predicted'\n",
    "    plt.figure(figsize = (6,4))\n",
    "    sns.set(font_scale=1.4)#for label size\n",
    "    sns.heatmap(df_cm, cmap=\"Blues\", annot=True,annot_kws={\"size\": 16}, fmt='g')# font size\n",
    "    plt.show()\n",
    "    \n",
    "def NN_predict(model,X_test, multiclass):\n",
    "    if multiclass == 2:\n",
    "        labels = [0, 1]\n",
    "    if multiclass == 3:\n",
    "        labels = [0, 1, 2]\n",
    "    if multiclass == 5:\n",
    "        labels = [0, 1, 2, 3, 4]\n",
    "    y_pred = model.predict(X_test)\n",
    "    score = tf.nn.softmax(y_pred[0])\n",
    "    temp = []\n",
    "    for i in y_pred:\n",
    "        score = tf.nn.softmax(i)\n",
    "        i = labels[np.argmax(score)]\n",
    "        temp.append(i)\n",
    "    return temp\n",
    "\n",
    "def train_test(model,X_train,y_train,X_test,y_test):\n",
    "    model = model\n",
    "    model.fit(X_train, y_train)\n",
    "    y_pred = model.predict(X_test)\n",
    "    print('Fitting accuracy'+\"\\n\"+ '**************************')\n",
    "    train_acc = model.score(X_train,y_train)\n",
    "    print(train_acc)\n",
    "    print('Prediction accuracy'+\"\\n\"+'**************************')\n",
    "    test_acc = model.score(X_test,y_test)\n",
    "    print(test_acc)\n",
    "    print(\"\")\n",
    "    print(\"************************************************************\")\n",
    "    print(\"                 LR classification report\")\n",
    "    print(\"************************************************************\")\n",
    "    print(classification_report(y_test, y_pred))\n",
    "    return y_pred,train_acc,test_acc, model\n",
    "\n",
    "def LR_predict(X_train_word2Vec,y_train_word2Vec,X_test_word2Vec,y_test_word2Vec):\n",
    "    LR =  LogisticRegression(max_iter = 5000)\n",
    "    plot_learning_curve (LR,\"Learning curve for LR\",X_train_word2Vec,y_train_word2Vec)\n",
    "    y_pred_LR,train_acc_LR,test_acc_LR, LR = train_test(LR,X_train_word2Vec,y_train_word2Vec,X_test_word2Vec,y_test_word2Vec)\n",
    "    plot_confusion_matrix_test(y_test_word2Vec,y_pred_LR,multiclass=5)\n",
    "\n",
    "def generate_pred(model,X_test,y_test):\n",
    "    y_pred = NN_predict(model,X_test, multiclass=5)\n",
    "    plot_confusion_matrix_test(y_test,y_pred,multiclass=5)\n",
    "    print(classification_report(y_test, y_pred))\n",
    "\n",
    "def generate_submission(model,X_test,model_name):\n",
    "    y_pred_sub = NN_predict(model,X_test, multiclass=5)\n",
    "    submission = df_submission.copy()\n",
    "    submission = submission.drop([\"review\"], axis=1)\n",
    "    submission[\"Sentiment\"] = y_pred_sub\n",
    "    submission.to_csv('/kaggle/working/'+str(model_name)+\".csv\", index=False)\n",
    "    return submission\n",
    "\n",
    "def plot_learning_curve(estimator, title, X, y):\n",
    "    train_sizes=np.linspace(.1, 1.0, 5)\n",
    "    cv=3\n",
    "    fig, ax = plt.subplots(1,1)\n",
    "    ax.set_title(title)\n",
    "    ax.set_xlabel(\"Training examples\")\n",
    "    ax.set_ylabel(\"Score\")\n",
    "\n",
    "    train_sizes, train_scores, test_scores, fit_times, _ = \\\n",
    "        learning_curve(estimator, X, y, cv=cv,\n",
    "                       train_sizes=train_sizes,\n",
    "                       return_times=True)\n",
    "    train_scores_mean = np.mean(train_scores, axis=1)\n",
    "    train_scores_std = np.std(train_scores, axis=1)\n",
    "    test_scores_mean = np.mean(test_scores, axis=1)\n",
    "    test_scores_std = np.std(test_scores, axis=1)\n",
    "    fit_times_mean = np.mean(fit_times, axis=1)\n",
    "    fit_times_std = np.std(fit_times, axis=1)\n",
    "\n",
    "    # Plot learning curve\n",
    "    ax.grid()\n",
    "    ax.fill_between(train_sizes, train_scores_mean - train_scores_std,\n",
    "                         train_scores_mean + train_scores_std, alpha=0.1,\n",
    "                         color=\"r\")\n",
    "    ax.fill_between(train_sizes, test_scores_mean - test_scores_std,\n",
    "                         test_scores_mean + test_scores_std, alpha=0.1,\n",
    "                         color=\"g\")\n",
    "    ax.plot(train_sizes, train_scores_mean, 'o-', color=\"r\",\n",
    "                 label=\"Training score\")\n",
    "    ax.plot(train_sizes, test_scores_mean, 'o-', color=\"g\",\n",
    "                 label=\"Cross-validation score\")\n",
    "    ax.legend(loc=\"best\")\n",
    "    return plt"
   ]
  },
  {
   "cell_type": "markdown",
   "metadata": {},
   "source": [
    "# 1- Data Loading and visualisation"
   ]
  },
  {
   "cell_type": "code",
   "execution_count": 4,
   "metadata": {},
   "outputs": [
    {
     "data": {
      "text/html": [
       "<div>\n",
       "<style scoped>\n",
       "    .dataframe tbody tr th:only-of-type {\n",
       "        vertical-align: middle;\n",
       "    }\n",
       "\n",
       "    .dataframe tbody tr th {\n",
       "        vertical-align: top;\n",
       "    }\n",
       "\n",
       "    .dataframe thead th {\n",
       "        text-align: right;\n",
       "    }\n",
       "</style>\n",
       "<table border=\"1\" class=\"dataframe\">\n",
       "  <thead>\n",
       "    <tr style=\"text-align: right;\">\n",
       "      <th></th>\n",
       "      <th>review</th>\n",
       "      <th>sentiment</th>\n",
       "    </tr>\n",
       "  </thead>\n",
       "  <tbody>\n",
       "    <tr>\n",
       "      <th>0</th>\n",
       "      <td>A series of escapades demonstrating the adage ...</td>\n",
       "      <td>1</td>\n",
       "    </tr>\n",
       "    <tr>\n",
       "      <th>1</th>\n",
       "      <td>A series of escapades demonstrating the adage ...</td>\n",
       "      <td>2</td>\n",
       "    </tr>\n",
       "    <tr>\n",
       "      <th>2</th>\n",
       "      <td>A series</td>\n",
       "      <td>2</td>\n",
       "    </tr>\n",
       "    <tr>\n",
       "      <th>3</th>\n",
       "      <td>A</td>\n",
       "      <td>2</td>\n",
       "    </tr>\n",
       "    <tr>\n",
       "      <th>4</th>\n",
       "      <td>series</td>\n",
       "      <td>2</td>\n",
       "    </tr>\n",
       "    <tr>\n",
       "      <th>...</th>\n",
       "      <td>...</td>\n",
       "      <td>...</td>\n",
       "    </tr>\n",
       "    <tr>\n",
       "      <th>156055</th>\n",
       "      <td>Hearst 's</td>\n",
       "      <td>2</td>\n",
       "    </tr>\n",
       "    <tr>\n",
       "      <th>156056</th>\n",
       "      <td>forced avuncular chortles</td>\n",
       "      <td>1</td>\n",
       "    </tr>\n",
       "    <tr>\n",
       "      <th>156057</th>\n",
       "      <td>avuncular chortles</td>\n",
       "      <td>3</td>\n",
       "    </tr>\n",
       "    <tr>\n",
       "      <th>156058</th>\n",
       "      <td>avuncular</td>\n",
       "      <td>2</td>\n",
       "    </tr>\n",
       "    <tr>\n",
       "      <th>156059</th>\n",
       "      <td>chortles</td>\n",
       "      <td>2</td>\n",
       "    </tr>\n",
       "  </tbody>\n",
       "</table>\n",
       "<p>156060 rows × 2 columns</p>\n",
       "</div>"
      ],
      "text/plain": [
       "                                                   review  sentiment\n",
       "0       A series of escapades demonstrating the adage ...          1\n",
       "1       A series of escapades demonstrating the adage ...          2\n",
       "2                                                A series          2\n",
       "3                                                       A          2\n",
       "4                                                  series          2\n",
       "...                                                   ...        ...\n",
       "156055                                          Hearst 's          2\n",
       "156056                          forced avuncular chortles          1\n",
       "156057                                 avuncular chortles          3\n",
       "156058                                          avuncular          2\n",
       "156059                                           chortles          2\n",
       "\n",
       "[156060 rows x 2 columns]"
      ]
     },
     "execution_count": 4,
     "metadata": {},
     "output_type": "execute_result"
    }
   ],
   "source": [
    "# ----------------------------- IMDB 4 scale  -----------------------------------------\n",
    "df_submission = pd.read_csv(os.path.abspath('IMDB_4scale/test.tsv'),sep=\"\\t\")\n",
    "df_submission = df_submission.rename(columns={\"Phrase\": \"review\"}, errors=\"raise\")\n",
    "df_submission = df_submission.drop([\"SentenceId\"], axis=1)\n",
    "\n",
    "df_train = pd.read_csv(os.path.abspath('IMDB_4scale/train.tsv'),sep=\"\\t\")\n",
    "df_train = df_train.rename(columns={\"Phrase\": \"review\", \"Sentiment\": \"sentiment\"}, errors=\"raise\")\n",
    "df_train = df_train.drop([\"PhraseId\",\"SentenceId\"], axis=1)\n",
    "df_train\n",
    "\n",
    "\n",
    "# # ----------------------------- Twitter Semeval -----------------------------------------\n",
    "# df = pd.read_csv(\"../input/semeval/twitter_4D.txt\",delimiter=\"\\t\",header=None)\n",
    "# df = df.drop([0,1,4], axis=1)\n",
    "# df = df.rename(columns={2: \"sentiment\", 3: \"review\"}, errors=\"raise\")\n",
    "# df"
   ]
  },
  {
   "cell_type": "code",
   "execution_count": 5,
   "metadata": {},
   "outputs": [
    {
     "name": "stdout",
     "output_type": "stream",
     "text": [
      "2    79582\n",
      "3    32927\n",
      "1    27273\n",
      "4     9206\n",
      "0     7072\n",
      "Name: sentiment, dtype: int64\n"
     ]
    },
    {
     "data": {
      "image/png": "[encoded data removed]",
      "text/plain": [
       "<Figure size 432x288 with 1 Axes>"
      ]
     },
     "metadata": {
      "needs_background": "light"
     },
     "output_type": "display_data"
    }
   ],
   "source": [
    "plot_class_distribution(df_train[\"sentiment\"])"
   ]
  },
  {
   "cell_type": "markdown",
   "metadata": {},
   "source": [
    "# 2- Data pre-processing"
   ]
  },
  {
   "cell_type": "markdown",
   "metadata": {},
   "source": [
    "### Data cleaning "
   ]
  },
  {
   "cell_type": "code",
   "execution_count": 6,
   "metadata": {},
   "outputs": [],
   "source": [
    "df_train = data_cleaning(df_train)\n",
    "df_submission = data_cleaning(df_submission)"
   ]
  },
  {
   "cell_type": "markdown",
   "metadata": {},
   "source": [
    "### Transformation to TF-IDF features"
   ]
  },
  {
   "cell_type": "code",
   "execution_count": 7,
   "metadata": {},
   "outputs": [],
   "source": [
    "# best_par = return_best_tfidf(df_train)"
   ]
  },
  {
   "cell_type": "code",
   "execution_count": 8,
   "metadata": {},
   "outputs": [],
   "source": [
    "# X_TfIdf = Tfidf_transformation(df_train,ngram_range=(1,1))\n",
    "# X_TfIdf = Tfidf_transformation(df_train,ngram_range= best_par[\"tfidf__ngram_range\"])"
   ]
  },
  {
   "cell_type": "markdown",
   "metadata": {},
   "source": [
    "### Transformation to word2Vec features using gensim"
   ]
  },
  {
   "cell_type": "code",
   "execution_count": 9,
   "metadata": {},
   "outputs": [],
   "source": [
    "# X_word2Vec = load_pkl(\"./X_word2Vec.pkl\")\n",
    "# X_word2Vec = word2Vec_transform(df_train,True)"
   ]
  },
  {
   "cell_type": "markdown",
   "metadata": {},
   "source": [
    "# 3- Data partitionning"
   ]
  },
  {
   "cell_type": "markdown",
   "metadata": {},
   "source": [
    "### Create sets using the original data"
   ]
  },
  {
   "cell_type": "code",
   "execution_count": 10,
   "metadata": {},
   "outputs": [
    {
     "name": "stdout",
     "output_type": "stream",
     "text": [
      "Overall class distribution in this dataset\n",
      "2    55861\n",
      "3    22965\n",
      "1    19061\n",
      "4     6354\n",
      "0     5000\n",
      "dtype: int64\n",
      "2    11880\n",
      "3     4969\n",
      "1     4162\n",
      "4     1387\n",
      "0     1011\n",
      "dtype: int64\n",
      "\n",
      "X_train has shape: (109241,)\n",
      "y_train has shape: (109241,)\n",
      "X_val has shape: (23409,)\n",
      "y_val has shape: (23409,)\n",
      "X_test has shape: (23410,)\n",
      "y_test has shape: (23410,)\n"
     ]
    }
   ],
   "source": [
    "X_train,X_val,X_test,y_train,y_val,y_test = data_partitioning(df_train[\"review\"].values,df_train[\"sentiment\"].values,test_size=0.3)"
   ]
  },
  {
   "cell_type": "markdown",
   "metadata": {},
   "source": [
    "### Create sets to be used when converted into TFIDF features"
   ]
  },
  {
   "cell_type": "code",
   "execution_count": 11,
   "metadata": {},
   "outputs": [],
   "source": [
    "# X_train_TfIdf,X_val_TfIdf,X_test_TfIdf,y_train_TfIdf,y_val_TfIdf,y_test_TfIdf = data_partitioning(X_TfIdf,df_train[\"sentiment\"].values,test_size=0.3)"
   ]
  },
  {
   "cell_type": "markdown",
   "metadata": {},
   "source": [
    "### Create sets to be used when converted into Word2Vec features"
   ]
  },
  {
   "cell_type": "code",
   "execution_count": 12,
   "metadata": {},
   "outputs": [],
   "source": [
    "# X_train_word2Vec,X_val_word2Vec,X_test_word2Vec,y_train_word2Vec,y_val_word2Vec,y_test_word2Vec= data_partitioning(X_word2Vec,df_train[\"sentiment\"].values,test_size=0.3)"
   ]
  },
  {
   "cell_type": "markdown",
   "metadata": {},
   "source": [
    "### Create sets to be used when converted into Word2Vec features"
   ]
  },
  {
   "cell_type": "code",
   "execution_count": 13,
   "metadata": {},
   "outputs": [
    {
     "name": "stdout",
     "output_type": "stream",
     "text": [
      "Overall class distribution in this dataset\n",
      "2    55719\n",
      "3    23034\n",
      "1    19067\n",
      "4     6482\n",
      "0     4939\n",
      "dtype: int64\n",
      "2    11979\n",
      "3     4914\n",
      "1     4100\n",
      "4     1377\n",
      "0     1039\n",
      "dtype: int64\n",
      "\n",
      "X_train has shape: (109241,)\n",
      "y_train has shape: (109241,)\n",
      "X_val has shape: (23409,)\n",
      "y_val has shape: (23409,)\n",
      "X_test has shape: (23410,)\n",
      "y_test has shape: (23410,)\n"
     ]
    }
   ],
   "source": [
    "X_train_bert,X_val_bert,X_test_bert,y_train_bert,y_val_bert,y_test_bert = data_partitioning(df_train[\"review\"].values,df_train[\"sentiment\"].values,test_size=0.3)"
   ]
  },
  {
   "cell_type": "markdown",
   "metadata": {},
   "source": [
    "# 4- Inference step using Logistic regression"
   ]
  },
  {
   "cell_type": "markdown",
   "metadata": {},
   "source": [
    "### Sentiment prediction using TF-IDF embeddings"
   ]
  },
  {
   "cell_type": "code",
   "execution_count": 14,
   "metadata": {},
   "outputs": [],
   "source": [
    "# X_train_TfIdf,X_test_TfIdf,tsvd = apply_TSVD(X_train_TfIdf,X_test_TfIdf)    "
   ]
  },
  {
   "cell_type": "code",
   "execution_count": 15,
   "metadata": {},
   "outputs": [],
   "source": [
    "# LR_predict(X_train_TfIdf,y_train_TfIdf,X_test_TfIdf,y_test_TfIdf)"
   ]
  },
  {
   "cell_type": "markdown",
   "metadata": {},
   "source": [
    "### Sentiment prediction using Word2Vec embeddings"
   ]
  },
  {
   "cell_type": "code",
   "execution_count": 16,
   "metadata": {},
   "outputs": [],
   "source": [
    "# LR_predict(X_train_word2Vec,y_train_word2Vec,X_test_word2Vec,y_test_word2Vec)"
   ]
  },
  {
   "cell_type": "markdown",
   "metadata": {},
   "source": [
    "# 5- Inference step using Deep Learning"
   ]
  },
  {
   "cell_type": "markdown",
   "metadata": {},
   "source": [
    "### Data encoding and embedding layer creation with Word2vec Transfer Learning"
   ]
  },
  {
   "cell_type": "code",
   "execution_count": 17,
   "metadata": {},
   "outputs": [
    {
     "name": "stdout",
     "output_type": "stream",
     "text": [
      "Maximum sentence lenght:  52\n",
      "Found 19284 unique tokens in the dataset.\n",
      "Loading word vectors from server...\n",
      "Loading word vectors from local saved file...\n",
      "Shape of X_train data tensor: (109241, 52)\n",
      "Shape of X_val data tensor: (23409, 52)\n",
      "Shape of X_test data tensor: (23410, 52)\n",
      "Shape of X_submission data tensor: (66292, 52)\n",
      "Filling pre-trained embeddings...\n",
      "The final embedding matrix has shape:  (19285, 300)\n"
     ]
    }
   ],
   "source": [
    "EMBEDDING_DIM,MAX_SEQUENCE_LENGTH,MAX_VOCAB_SIZE,w2v_model,embedding_matrix,X_train,X_val,X_test,X_submission = load_pretrained_embedding_model(df_train,\n",
    "                                                                                                                                   df_submission, \n",
    "                                                                                                                                   X_train, \n",
    "                                                                                                                                   X_val,\n",
    "                                                                                                                                   X_test,\n",
    "                                                                                                                                   EMBEDDING_DIM = 300, \n",
    "                                                                                                                                   model = 'word2vec-google-news-300')"
   ]
  },
  {
   "cell_type": "code",
   "execution_count": 18,
   "metadata": {},
   "outputs": [],
   "source": [
    "embedding_layer = Embedding(MAX_VOCAB_SIZE,\n",
    "                            EMBEDDING_DIM,\n",
    "                            weights=[embedding_matrix],\n",
    "                            input_length=MAX_SEQUENCE_LENGTH,\n",
    "                            trainable=False)"
   ]
  },
  {
   "cell_type": "markdown",
   "metadata": {},
   "source": [
    "## 1- Long-Short-Term-Memory (LSTM)"
   ]
  },
  {
   "cell_type": "code",
   "execution_count": 19,
   "metadata": {},
   "outputs": [
    {
     "name": "stdout",
     "output_type": "stream",
     "text": [
      "Model: \"sequential\"\n",
      "_________________________________________________________________\n",
      "Layer (type)                 Output Shape              Param #   \n",
      "=================================================================\n",
      "embedding (Embedding)        (None, 52, 300)           5785500   \n",
      "_________________________________________________________________\n",
      "lstm (LSTM)                  (None, 128)               219648    \n",
      "_________________________________________________________________\n",
      "dense (Dense)                (None, 5)                 645       \n",
      "=================================================================\n",
      "Total params: 6,005,793\n",
      "Trainable params: 220,293\n",
      "Non-trainable params: 5,785,500\n",
      "_________________________________________________________________\n"
     ]
    }
   ],
   "source": [
    "def simple_LSTM_model_multiclass(embedding_layer):\n",
    "    simple_LSTM_model_multiclass = Sequential()\n",
    "    simple_LSTM_model_multiclass.add(embedding_layer)\n",
    "    simple_LSTM_model_multiclass.add(LSTM(128))\n",
    "    simple_LSTM_model_multiclass.add(Dense(5, activation='softmax'))\n",
    "    simple_LSTM_model_multiclass.compile(loss='categorical_crossentropy', \n",
    "#                                          optimizer='adam', \n",
    "                                         optimizer=Adam(lr=1e-3),\n",
    "                                         metrics=['accuracy'])\n",
    "    simple_LSTM_model_multiclass.summary()\n",
    "    return simple_LSTM_model_multiclass,\"simple_LSTM_model_multiclass\"\n",
    "\n",
    "model, model_name = simple_LSTM_model_multiclass(embedding_layer) "
   ]
  },
  {
   "cell_type": "code",
   "execution_count": 20,
   "metadata": {},
   "outputs": [
    {
     "name": "stdout",
     "output_type": "stream",
     "text": [
      "Epoch 1/10\n",
      "853/854 [============================>.] - ETA: 0s - loss: 1.0415 - accuracy: 0.5810"
     ]
    },
    {
     "ename": "KeyboardInterrupt",
     "evalue": "",
     "output_type": "error",
     "traceback": [
      "\u001b[0;31m---------------------------------------------------------------------------\u001b[0m",
      "\u001b[0;31mKeyboardInterrupt\u001b[0m                         Traceback (most recent call last)",
      "\u001b[0;32m<ipython-input-20-d82d977c6266>\u001b[0m in \u001b[0;36m<module>\u001b[0;34m\u001b[0m\n\u001b[0;32m----> 1\u001b[0;31m model = train_deep_model(model,\n\u001b[0m\u001b[1;32m      2\u001b[0m                         \u001b[0mX_train\u001b[0m\u001b[0;34m,\u001b[0m\u001b[0my_train\u001b[0m\u001b[0;34m,\u001b[0m\u001b[0;34m\u001b[0m\u001b[0;34m\u001b[0m\u001b[0m\n\u001b[1;32m      3\u001b[0m                         \u001b[0mX_val\u001b[0m\u001b[0;34m,\u001b[0m \u001b[0my_val\u001b[0m\u001b[0;34m,\u001b[0m\u001b[0;34m\u001b[0m\u001b[0;34m\u001b[0m\u001b[0m\n\u001b[1;32m      4\u001b[0m                         \u001b[0mBATCH_SIZE\u001b[0m \u001b[0;34m=\u001b[0m \u001b[0;36m128\u001b[0m\u001b[0;34m,\u001b[0m\u001b[0;34m\u001b[0m\u001b[0;34m\u001b[0m\u001b[0m\n\u001b[1;32m      5\u001b[0m                         \u001b[0mEPOCHS\u001b[0m \u001b[0;34m=\u001b[0m \u001b[0;36m10\u001b[0m\u001b[0;34m,\u001b[0m\u001b[0;34m\u001b[0m\u001b[0;34m\u001b[0m\u001b[0m\n",
      "\u001b[0;32m<ipython-input-3-015a1de396f7>\u001b[0m in \u001b[0;36mtrain_deep_model\u001b[0;34m(model, X_train, y_train, X_val, y_val, BATCH_SIZE, EPOCHS, plot, callback, model_name)\u001b[0m\n\u001b[1;32m    349\u001b[0m         \u001b[0mcm_callback\u001b[0m \u001b[0;34m=\u001b[0m \u001b[0mkeras\u001b[0m\u001b[0;34m.\u001b[0m\u001b[0mcallbacks\u001b[0m\u001b[0;34m.\u001b[0m\u001b[0mLambdaCallback\u001b[0m\u001b[0;34m(\u001b[0m\u001b[0mon_epoch_end\u001b[0m\u001b[0;34m=\u001b[0m\u001b[0mlog_confusion_matrix\u001b[0m\u001b[0;34m)\u001b[0m\u001b[0;34m\u001b[0m\u001b[0;34m\u001b[0m\u001b[0m\n\u001b[1;32m    350\u001b[0m \u001b[0;34m\u001b[0m\u001b[0m\n\u001b[0;32m--> 351\u001b[0;31m         history = model.fit(X_train,\n\u001b[0m\u001b[1;32m    352\u001b[0m                   \u001b[0mto_categorical\u001b[0m\u001b[0;34m(\u001b[0m\u001b[0my_train\u001b[0m\u001b[0;34m)\u001b[0m\u001b[0;34m,\u001b[0m\u001b[0;34m\u001b[0m\u001b[0;34m\u001b[0m\u001b[0m\n\u001b[1;32m    353\u001b[0m                   \u001b[0mbatch_size\u001b[0m\u001b[0;34m=\u001b[0m\u001b[0mBATCH_SIZE\u001b[0m\u001b[0;34m,\u001b[0m\u001b[0;34m\u001b[0m\u001b[0;34m\u001b[0m\u001b[0m\n",
      "\u001b[0;32m/opt/anaconda3/envs/py38/lib/python3.8/site-packages/tensorflow/python/keras/engine/training.py\u001b[0m in \u001b[0;36mfit\u001b[0;34m(self, x, y, batch_size, epochs, verbose, callbacks, validation_split, validation_data, shuffle, class_weight, sample_weight, initial_epoch, steps_per_epoch, validation_steps, validation_batch_size, validation_freq, max_queue_size, workers, use_multiprocessing)\u001b[0m\n\u001b[1;32m   1129\u001b[0m                 \u001b[0mmodel\u001b[0m\u001b[0;34m=\u001b[0m\u001b[0mself\u001b[0m\u001b[0;34m,\u001b[0m\u001b[0;34m\u001b[0m\u001b[0;34m\u001b[0m\u001b[0m\n\u001b[1;32m   1130\u001b[0m                 steps_per_execution=self._steps_per_execution)\n\u001b[0;32m-> 1131\u001b[0;31m           val_logs = self.evaluate(\n\u001b[0m\u001b[1;32m   1132\u001b[0m               \u001b[0mx\u001b[0m\u001b[0;34m=\u001b[0m\u001b[0mval_x\u001b[0m\u001b[0;34m,\u001b[0m\u001b[0;34m\u001b[0m\u001b[0;34m\u001b[0m\u001b[0m\n\u001b[1;32m   1133\u001b[0m               \u001b[0my\u001b[0m\u001b[0;34m=\u001b[0m\u001b[0mval_y\u001b[0m\u001b[0;34m,\u001b[0m\u001b[0;34m\u001b[0m\u001b[0;34m\u001b[0m\u001b[0m\n",
      "\u001b[0;32m/opt/anaconda3/envs/py38/lib/python3.8/site-packages/tensorflow/python/keras/engine/training.py\u001b[0m in \u001b[0;36mevaluate\u001b[0;34m(self, x, y, batch_size, verbose, sample_weight, steps, callbacks, max_queue_size, workers, use_multiprocessing, return_dict)\u001b[0m\n\u001b[1;32m   1387\u001b[0m             \u001b[0;32mwith\u001b[0m \u001b[0mtrace\u001b[0m\u001b[0;34m.\u001b[0m\u001b[0mTrace\u001b[0m\u001b[0;34m(\u001b[0m\u001b[0;34m'test'\u001b[0m\u001b[0;34m,\u001b[0m \u001b[0mstep_num\u001b[0m\u001b[0;34m=\u001b[0m\u001b[0mstep\u001b[0m\u001b[0;34m,\u001b[0m \u001b[0m_r\u001b[0m\u001b[0;34m=\u001b[0m\u001b[0;36m1\u001b[0m\u001b[0;34m)\u001b[0m\u001b[0;34m:\u001b[0m\u001b[0;34m\u001b[0m\u001b[0;34m\u001b[0m\u001b[0m\n\u001b[1;32m   1388\u001b[0m               \u001b[0mcallbacks\u001b[0m\u001b[0;34m.\u001b[0m\u001b[0mon_test_batch_begin\u001b[0m\u001b[0;34m(\u001b[0m\u001b[0mstep\u001b[0m\u001b[0;34m)\u001b[0m\u001b[0;34m\u001b[0m\u001b[0;34m\u001b[0m\u001b[0m\n\u001b[0;32m-> 1389\u001b[0;31m               \u001b[0mtmp_logs\u001b[0m \u001b[0;34m=\u001b[0m \u001b[0mself\u001b[0m\u001b[0;34m.\u001b[0m\u001b[0mtest_function\u001b[0m\u001b[0;34m(\u001b[0m\u001b[0miterator\u001b[0m\u001b[0;34m)\u001b[0m\u001b[0;34m\u001b[0m\u001b[0;34m\u001b[0m\u001b[0m\n\u001b[0m\u001b[1;32m   1390\u001b[0m               \u001b[0;32mif\u001b[0m \u001b[0mdata_handler\u001b[0m\u001b[0;34m.\u001b[0m\u001b[0mshould_sync\u001b[0m\u001b[0;34m:\u001b[0m\u001b[0;34m\u001b[0m\u001b[0;34m\u001b[0m\u001b[0m\n\u001b[1;32m   1391\u001b[0m                 \u001b[0mcontext\u001b[0m\u001b[0;34m.\u001b[0m\u001b[0masync_wait\u001b[0m\u001b[0;34m(\u001b[0m\u001b[0;34m)\u001b[0m\u001b[0;34m\u001b[0m\u001b[0;34m\u001b[0m\u001b[0m\n",
      "\u001b[0;32m/opt/anaconda3/envs/py38/lib/python3.8/site-packages/tensorflow/python/eager/def_function.py\u001b[0m in \u001b[0;36m__call__\u001b[0;34m(self, *args, **kwds)\u001b[0m\n\u001b[1;32m    826\u001b[0m     \u001b[0mtracing_count\u001b[0m \u001b[0;34m=\u001b[0m \u001b[0mself\u001b[0m\u001b[0;34m.\u001b[0m\u001b[0mexperimental_get_tracing_count\u001b[0m\u001b[0;34m(\u001b[0m\u001b[0;34m)\u001b[0m\u001b[0;34m\u001b[0m\u001b[0;34m\u001b[0m\u001b[0m\n\u001b[1;32m    827\u001b[0m     \u001b[0;32mwith\u001b[0m \u001b[0mtrace\u001b[0m\u001b[0;34m.\u001b[0m\u001b[0mTrace\u001b[0m\u001b[0;34m(\u001b[0m\u001b[0mself\u001b[0m\u001b[0;34m.\u001b[0m\u001b[0m_name\u001b[0m\u001b[0;34m)\u001b[0m \u001b[0;32mas\u001b[0m \u001b[0mtm\u001b[0m\u001b[0;34m:\u001b[0m\u001b[0;34m\u001b[0m\u001b[0;34m\u001b[0m\u001b[0m\n\u001b[0;32m--> 828\u001b[0;31m       \u001b[0mresult\u001b[0m \u001b[0;34m=\u001b[0m \u001b[0mself\u001b[0m\u001b[0;34m.\u001b[0m\u001b[0m_call\u001b[0m\u001b[0;34m(\u001b[0m\u001b[0;34m*\u001b[0m\u001b[0margs\u001b[0m\u001b[0;34m,\u001b[0m \u001b[0;34m**\u001b[0m\u001b[0mkwds\u001b[0m\u001b[0;34m)\u001b[0m\u001b[0;34m\u001b[0m\u001b[0;34m\u001b[0m\u001b[0m\n\u001b[0m\u001b[1;32m    829\u001b[0m       \u001b[0mcompiler\u001b[0m \u001b[0;34m=\u001b[0m \u001b[0;34m\"xla\"\u001b[0m \u001b[0;32mif\u001b[0m \u001b[0mself\u001b[0m\u001b[0;34m.\u001b[0m\u001b[0m_experimental_compile\u001b[0m \u001b[0;32melse\u001b[0m \u001b[0;34m\"nonXla\"\u001b[0m\u001b[0;34m\u001b[0m\u001b[0;34m\u001b[0m\u001b[0m\n\u001b[1;32m    830\u001b[0m       \u001b[0mnew_tracing_count\u001b[0m \u001b[0;34m=\u001b[0m \u001b[0mself\u001b[0m\u001b[0;34m.\u001b[0m\u001b[0mexperimental_get_tracing_count\u001b[0m\u001b[0;34m(\u001b[0m\u001b[0;34m)\u001b[0m\u001b[0;34m\u001b[0m\u001b[0;34m\u001b[0m\u001b[0m\n",
      "\u001b[0;32m/opt/anaconda3/envs/py38/lib/python3.8/site-packages/tensorflow/python/eager/def_function.py\u001b[0m in \u001b[0;36m_call\u001b[0;34m(self, *args, **kwds)\u001b[0m\n\u001b[1;32m    860\u001b[0m       \u001b[0;31m# In this case we have not created variables on the first call. So we can\u001b[0m\u001b[0;34m\u001b[0m\u001b[0;34m\u001b[0m\u001b[0;34m\u001b[0m\u001b[0m\n\u001b[1;32m    861\u001b[0m       \u001b[0;31m# run the first trace but we should fail if variables are created.\u001b[0m\u001b[0;34m\u001b[0m\u001b[0;34m\u001b[0m\u001b[0;34m\u001b[0m\u001b[0m\n\u001b[0;32m--> 862\u001b[0;31m       \u001b[0mresults\u001b[0m \u001b[0;34m=\u001b[0m \u001b[0mself\u001b[0m\u001b[0;34m.\u001b[0m\u001b[0m_stateful_fn\u001b[0m\u001b[0;34m(\u001b[0m\u001b[0;34m*\u001b[0m\u001b[0margs\u001b[0m\u001b[0;34m,\u001b[0m \u001b[0;34m**\u001b[0m\u001b[0mkwds\u001b[0m\u001b[0;34m)\u001b[0m\u001b[0;34m\u001b[0m\u001b[0;34m\u001b[0m\u001b[0m\n\u001b[0m\u001b[1;32m    863\u001b[0m       \u001b[0;32mif\u001b[0m \u001b[0mself\u001b[0m\u001b[0;34m.\u001b[0m\u001b[0m_created_variables\u001b[0m\u001b[0;34m:\u001b[0m\u001b[0;34m\u001b[0m\u001b[0;34m\u001b[0m\u001b[0m\n\u001b[1;32m    864\u001b[0m         raise ValueError(\"Creating variables on a non-first call to a function\"\n",
      "\u001b[0;32m/opt/anaconda3/envs/py38/lib/python3.8/site-packages/tensorflow/python/eager/function.py\u001b[0m in \u001b[0;36m__call__\u001b[0;34m(self, *args, **kwargs)\u001b[0m\n\u001b[1;32m   2940\u001b[0m       (graph_function,\n\u001b[1;32m   2941\u001b[0m        filtered_flat_args) = self._maybe_define_function(args, kwargs)\n\u001b[0;32m-> 2942\u001b[0;31m     return graph_function._call_flat(\n\u001b[0m\u001b[1;32m   2943\u001b[0m         filtered_flat_args, captured_inputs=graph_function.captured_inputs)  # pylint: disable=protected-access\n\u001b[1;32m   2944\u001b[0m \u001b[0;34m\u001b[0m\u001b[0m\n",
      "\u001b[0;32m/opt/anaconda3/envs/py38/lib/python3.8/site-packages/tensorflow/python/eager/function.py\u001b[0m in \u001b[0;36m_call_flat\u001b[0;34m(self, args, captured_inputs, cancellation_manager)\u001b[0m\n\u001b[1;32m   1916\u001b[0m         and executing_eagerly):\n\u001b[1;32m   1917\u001b[0m       \u001b[0;31m# No tape is watching; skip to running the function.\u001b[0m\u001b[0;34m\u001b[0m\u001b[0;34m\u001b[0m\u001b[0;34m\u001b[0m\u001b[0m\n\u001b[0;32m-> 1918\u001b[0;31m       return self._build_call_outputs(self._inference_function.call(\n\u001b[0m\u001b[1;32m   1919\u001b[0m           ctx, args, cancellation_manager=cancellation_manager))\n\u001b[1;32m   1920\u001b[0m     forward_backward = self._select_forward_and_backward_functions(\n",
      "\u001b[0;32m/opt/anaconda3/envs/py38/lib/python3.8/site-packages/tensorflow/python/eager/function.py\u001b[0m in \u001b[0;36mcall\u001b[0;34m(self, ctx, args, cancellation_manager)\u001b[0m\n\u001b[1;32m    553\u001b[0m       \u001b[0;32mwith\u001b[0m \u001b[0m_InterpolateFunctionError\u001b[0m\u001b[0;34m(\u001b[0m\u001b[0mself\u001b[0m\u001b[0;34m)\u001b[0m\u001b[0;34m:\u001b[0m\u001b[0;34m\u001b[0m\u001b[0;34m\u001b[0m\u001b[0m\n\u001b[1;32m    554\u001b[0m         \u001b[0;32mif\u001b[0m \u001b[0mcancellation_manager\u001b[0m \u001b[0;32mis\u001b[0m \u001b[0;32mNone\u001b[0m\u001b[0;34m:\u001b[0m\u001b[0;34m\u001b[0m\u001b[0;34m\u001b[0m\u001b[0m\n\u001b[0;32m--> 555\u001b[0;31m           outputs = execute.execute(\n\u001b[0m\u001b[1;32m    556\u001b[0m               \u001b[0mstr\u001b[0m\u001b[0;34m(\u001b[0m\u001b[0mself\u001b[0m\u001b[0;34m.\u001b[0m\u001b[0msignature\u001b[0m\u001b[0;34m.\u001b[0m\u001b[0mname\u001b[0m\u001b[0;34m)\u001b[0m\u001b[0;34m,\u001b[0m\u001b[0;34m\u001b[0m\u001b[0;34m\u001b[0m\u001b[0m\n\u001b[1;32m    557\u001b[0m               \u001b[0mnum_outputs\u001b[0m\u001b[0;34m=\u001b[0m\u001b[0mself\u001b[0m\u001b[0;34m.\u001b[0m\u001b[0m_num_outputs\u001b[0m\u001b[0;34m,\u001b[0m\u001b[0;34m\u001b[0m\u001b[0;34m\u001b[0m\u001b[0m\n",
      "\u001b[0;32m/opt/anaconda3/envs/py38/lib/python3.8/site-packages/tensorflow/python/eager/execute.py\u001b[0m in \u001b[0;36mquick_execute\u001b[0;34m(op_name, num_outputs, inputs, attrs, ctx, name)\u001b[0m\n\u001b[1;32m     57\u001b[0m   \u001b[0;32mtry\u001b[0m\u001b[0;34m:\u001b[0m\u001b[0;34m\u001b[0m\u001b[0;34m\u001b[0m\u001b[0m\n\u001b[1;32m     58\u001b[0m     \u001b[0mctx\u001b[0m\u001b[0;34m.\u001b[0m\u001b[0mensure_initialized\u001b[0m\u001b[0;34m(\u001b[0m\u001b[0;34m)\u001b[0m\u001b[0;34m\u001b[0m\u001b[0;34m\u001b[0m\u001b[0m\n\u001b[0;32m---> 59\u001b[0;31m     tensors = pywrap_tfe.TFE_Py_Execute(ctx._handle, device_name, op_name,\n\u001b[0m\u001b[1;32m     60\u001b[0m                                         inputs, attrs, num_outputs)\n\u001b[1;32m     61\u001b[0m   \u001b[0;32mexcept\u001b[0m \u001b[0mcore\u001b[0m\u001b[0;34m.\u001b[0m\u001b[0m_NotOkStatusException\u001b[0m \u001b[0;32mas\u001b[0m \u001b[0me\u001b[0m\u001b[0;34m:\u001b[0m\u001b[0;34m\u001b[0m\u001b[0;34m\u001b[0m\u001b[0m\n",
      "\u001b[0;31mKeyboardInterrupt\u001b[0m: "
     ]
    }
   ],
   "source": [
    "model = train_deep_model(model,\n",
    "                        X_train,y_train, \n",
    "                        X_val, y_val,\n",
    "                        BATCH_SIZE = 128, \n",
    "                        EPOCHS = 10, \n",
    "                        plot=True,\n",
    "                        callback=True,\n",
    "                        model_name= model_name)"
   ]
  },
  {
   "cell_type": "code",
   "execution_count": null,
   "metadata": {},
   "outputs": [],
   "source": [
    "generate_pred(model,X_test,y_test)"
   ]
  },
  {
   "cell_type": "code",
   "execution_count": null,
   "metadata": {},
   "outputs": [],
   "source": [
    "submission = generate_submission(model,X_submission,model_name)\n",
    "submission"
   ]
  },
  {
   "cell_type": "markdown",
   "metadata": {},
   "source": [
    "## 2- BiLSTM with a Dense Layer and Dropout"
   ]
  },
  {
   "cell_type": "code",
   "execution_count": null,
   "metadata": {},
   "outputs": [],
   "source": [
    "def simple_biLSTM_model_multiclass(embedding_layer):\n",
    "    simple_biLSTM_model_multiclass = Sequential()\n",
    "    simple_biLSTM_model_multiclass.add(embedding_layer)\n",
    "    simple_biLSTM_model_multiclass.add(Bidirectional(LSTM(128)))\n",
    "    simple_biLSTM_model_multiclass.add(Dense(128, activation='relu'))\n",
    "    simple_biLSTM_model_multiclass.add(Dropout(0.5))\n",
    "    simple_biLSTM_model_multiclass.add(Dense(5, activation='softmax'))\n",
    "    simple_biLSTM_model_multiclass.compile(loss='categorical_crossentropy', \n",
    "#                                          optimizer='adam', \n",
    "                                           optimizer=Adam(lr=1e-3),\n",
    "                                           metrics=['accuracy'])\n",
    "    \n",
    "    simple_biLSTM_model_multiclass.summary()\n",
    "    return simple_biLSTM_model_multiclass,\"simple_biLSTM_model_multiclass\"\n",
    "\n",
    "model, model_name = simple_biLSTM_model_multiclass(embedding_layer)"
   ]
  },
  {
   "cell_type": "code",
   "execution_count": null,
   "metadata": {},
   "outputs": [],
   "source": [
    "model = train_deep_model(model,\n",
    "                        X_train,y_train, \n",
    "                        X_val, y_val,\n",
    "                        BATCH_SIZE = 128, \n",
    "                        EPOCHS = 11, \n",
    "                        plot=True,\n",
    "                        callback=True,\n",
    "                        model_name= model_name )"
   ]
  },
  {
   "cell_type": "code",
   "execution_count": null,
   "metadata": {},
   "outputs": [],
   "source": [
    "generate_pred(model,X_test,y_test)"
   ]
  },
  {
   "cell_type": "code",
   "execution_count": null,
   "metadata": {},
   "outputs": [],
   "source": [
    "submission = generate_submission(model,X_submission,model_name)\n",
    "submission"
   ]
  },
  {
   "cell_type": "markdown",
   "metadata": {},
   "source": [
    "## 3- Multiple layer lstm\n",
    " "
   ]
  },
  {
   "cell_type": "code",
   "execution_count": 27,
   "metadata": {},
   "outputs": [
    {
     "name": "stdout",
     "output_type": "stream",
     "text": [
      "Model: \"sequential_2\"\n",
      "_________________________________________________________________\n",
      "Layer (type)                 Output Shape              Param #   \n",
      "=================================================================\n",
      "embedding (Embedding)        (None, 52, 300)           5785500   \n",
      "_________________________________________________________________\n",
      "bidirectional_1 (Bidirection (None, 52, 256)           439296    \n",
      "_________________________________________________________________\n",
      "global_max_pooling1d (Global (None, 256)               0         \n",
      "_________________________________________________________________\n",
      "dense_3 (Dense)              (None, 5)                 1285      \n",
      "=================================================================\n",
      "Total params: 6,226,081\n",
      "Trainable params: 440,581\n",
      "Non-trainable params: 5,785,500\n",
      "_________________________________________________________________\n"
     ]
    }
   ],
   "source": [
    "def multi_layer_lstm_multiclass(embedding_layer):\n",
    "    multi_layer_lstm_multiclass = Sequential()\n",
    "    multi_layer_lstm_multiclass.add(embedding_layer)\n",
    "    multi_layer_lstm_multiclass.add(Bidirectional(LSTM(128, return_sequences=True)))\n",
    "    keras.layers.Dropout(0.5)\n",
    "    multi_layer_lstm_multiclass.add(GlobalMaxPool1D())\n",
    "    keras.layers.Dropout(0.5)\n",
    "    multi_layer_lstm_multiclass.add(Dense(5, activation='softmax'))\n",
    "    multi_layer_lstm_multiclass.compile(loss='categorical_crossentropy', \n",
    "#                                          optimizer='adam', \n",
    "                                           optimizer=Adam(lr=1e-3),\n",
    "                                           metrics=['accuracy'])\n",
    "    \n",
    "    multi_layer_lstm_multiclass.summary()\n",
    "    return multi_layer_lstm_multiclass,\"multi_layer_lstm_multiclass\"\n",
    "\n",
    "model, model_name = multi_layer_lstm_multiclass(embedding_layer)"
   ]
  },
  {
   "cell_type": "code",
   "execution_count": 28,
   "metadata": {},
   "outputs": [
    {
     "name": "stdout",
     "output_type": "stream",
     "text": [
      "Epoch 1/13\n",
      "854/854 [==============================] - 16s 16ms/step - loss: 1.0531 - accuracy: 0.5828 - val_loss: 0.8808 - val_accuracy: 0.6395\n",
      "Epoch 2/13\n",
      "854/854 [==============================] - 12s 15ms/step - loss: 0.8686 - accuracy: 0.6446 - val_loss: 0.8546 - val_accuracy: 0.6498\n",
      "Epoch 3/13\n",
      "854/854 [==============================] - 13s 15ms/step - loss: 0.8212 - accuracy: 0.6653 - val_loss: 0.8376 - val_accuracy: 0.6547\n",
      "Epoch 4/13\n",
      "854/854 [==============================] - 13s 15ms/step - loss: 0.7875 - accuracy: 0.6800 - val_loss: 0.8168 - val_accuracy: 0.6650\n",
      "Epoch 5/13\n",
      "854/854 [==============================] - 13s 15ms/step - loss: 0.7507 - accuracy: 0.6960 - val_loss: 0.8079 - val_accuracy: 0.6688\n",
      "Epoch 6/13\n",
      "854/854 [==============================] - 13s 15ms/step - loss: 0.7162 - accuracy: 0.7110 - val_loss: 0.8001 - val_accuracy: 0.6713\n",
      "Epoch 7/13\n",
      "854/854 [==============================] - 13s 15ms/step - loss: 0.6855 - accuracy: 0.7244 - val_loss: 0.7995 - val_accuracy: 0.6724\n",
      "Epoch 8/13\n",
      "854/854 [==============================] - 12s 14ms/step - loss: 0.6534 - accuracy: 0.7392 - val_loss: 0.8013 - val_accuracy: 0.6734\n",
      "Epoch 9/13\n",
      "854/854 [==============================] - 13s 15ms/step - loss: 0.6306 - accuracy: 0.7468 - val_loss: 0.8051 - val_accuracy: 0.6750\n",
      "Epoch 10/13\n",
      "854/854 [==============================] - 13s 15ms/step - loss: 0.6051 - accuracy: 0.7565 - val_loss: 0.8033 - val_accuracy: 0.6762\n",
      "Epoch 11/13\n",
      "854/854 [==============================] - 13s 15ms/step - loss: 0.5780 - accuracy: 0.7690 - val_loss: 0.8120 - val_accuracy: 0.6735\n",
      "Epoch 12/13\n",
      "854/854 [==============================] - 13s 15ms/step - loss: 0.5575 - accuracy: 0.7788 - val_loss: 0.8226 - val_accuracy: 0.6732\n",
      "Epoch 13/13\n",
      "854/854 [==============================] - 13s 15ms/step - loss: 0.5349 - accuracy: 0.7869 - val_loss: 0.8536 - val_accuracy: 0.6651\n"
     ]
    },
    {
     "data": {
      "image/png": "[encoded data removed]",
      "text/plain": [
       "<Figure size 936x288 with 2 Axes>"
      ]
     },
     "metadata": {},
     "output_type": "display_data"
    }
   ],
   "source": [
    "model = train_deep_model(model,\n",
    "                        X_train,y_train, \n",
    "                        X_val, y_val,\n",
    "                        BATCH_SIZE = 128, \n",
    "                        EPOCHS = 13, \n",
    "                        plot=True,\n",
    "                        callback=True,\n",
    "                        model_name= model_name )"
   ]
  },
  {
   "cell_type": "code",
   "execution_count": 29,
   "metadata": {},
   "outputs": [
    {
     "data": {
      "image/png": "[encoded data removed]",
      "text/plain": [
       "<Figure size 432x288 with 2 Axes>"
      ]
     },
     "metadata": {},
     "output_type": "display_data"
    },
    {
     "name": "stdout",
     "output_type": "stream",
     "text": [
      "              precision    recall  f1-score   support\n",
      "\n",
      "           0       0.49      0.45      0.47      1102\n",
      "           1       0.57      0.52      0.54      4147\n",
      "           2       0.73      0.86      0.79     11891\n",
      "           3       0.63      0.47      0.54      4860\n",
      "           4       0.57      0.42      0.48      1410\n",
      "\n",
      "    accuracy                           0.67     23410\n",
      "   macro avg       0.60      0.54      0.56     23410\n",
      "weighted avg       0.66      0.67      0.66     23410\n",
      "\n"
     ]
    }
   ],
   "source": [
    "generate_pred(model,X_test,y_test)"
   ]
  },
  {
   "cell_type": "code",
   "execution_count": 30,
   "metadata": {},
   "outputs": [
    {
     "data": {
      "text/html": [
       "<div>\n",
       "<style scoped>\n",
       "    .dataframe tbody tr th:only-of-type {\n",
       "        vertical-align: middle;\n",
       "    }\n",
       "\n",
       "    .dataframe tbody tr th {\n",
       "        vertical-align: top;\n",
       "    }\n",
       "\n",
       "    .dataframe thead th {\n",
       "        text-align: right;\n",
       "    }\n",
       "</style>\n",
       "<table border=\"1\" class=\"dataframe\">\n",
       "  <thead>\n",
       "    <tr style=\"text-align: right;\">\n",
       "      <th></th>\n",
       "      <th>PhraseId</th>\n",
       "      <th>Sentiment</th>\n",
       "    </tr>\n",
       "  </thead>\n",
       "  <tbody>\n",
       "    <tr>\n",
       "      <th>0</th>\n",
       "      <td>156061</td>\n",
       "      <td>2</td>\n",
       "    </tr>\n",
       "    <tr>\n",
       "      <th>1</th>\n",
       "      <td>156062</td>\n",
       "      <td>2</td>\n",
       "    </tr>\n",
       "    <tr>\n",
       "      <th>2</th>\n",
       "      <td>156063</td>\n",
       "      <td>2</td>\n",
       "    </tr>\n",
       "    <tr>\n",
       "      <th>3</th>\n",
       "      <td>156064</td>\n",
       "      <td>2</td>\n",
       "    </tr>\n",
       "    <tr>\n",
       "      <th>4</th>\n",
       "      <td>156065</td>\n",
       "      <td>2</td>\n",
       "    </tr>\n",
       "    <tr>\n",
       "      <th>...</th>\n",
       "      <td>...</td>\n",
       "      <td>...</td>\n",
       "    </tr>\n",
       "    <tr>\n",
       "      <th>66287</th>\n",
       "      <td>222348</td>\n",
       "      <td>0</td>\n",
       "    </tr>\n",
       "    <tr>\n",
       "      <th>66288</th>\n",
       "      <td>222349</td>\n",
       "      <td>0</td>\n",
       "    </tr>\n",
       "    <tr>\n",
       "      <th>66289</th>\n",
       "      <td>222350</td>\n",
       "      <td>1</td>\n",
       "    </tr>\n",
       "    <tr>\n",
       "      <th>66290</th>\n",
       "      <td>222351</td>\n",
       "      <td>1</td>\n",
       "    </tr>\n",
       "    <tr>\n",
       "      <th>66291</th>\n",
       "      <td>222352</td>\n",
       "      <td>1</td>\n",
       "    </tr>\n",
       "  </tbody>\n",
       "</table>\n",
       "<p>66292 rows × 2 columns</p>\n",
       "</div>"
      ],
      "text/plain": [
       "       PhraseId  Sentiment\n",
       "0        156061          2\n",
       "1        156062          2\n",
       "2        156063          2\n",
       "3        156064          2\n",
       "4        156065          2\n",
       "...         ...        ...\n",
       "66287    222348          0\n",
       "66288    222349          0\n",
       "66289    222350          1\n",
       "66290    222351          1\n",
       "66291    222352          1\n",
       "\n",
       "[66292 rows x 2 columns]"
      ]
     },
     "execution_count": 30,
     "metadata": {},
     "output_type": "execute_result"
    }
   ],
   "source": [
    "submission = generate_submission(model,X_submission,model_name)\n",
    "submission"
   ]
  },
  {
   "cell_type": "markdown",
   "metadata": {},
   "source": [
    "## 4- Convolutional Neural network\n"
   ]
  },
  {
   "cell_type": "code",
   "execution_count": null,
   "metadata": {},
   "outputs": [],
   "source": [
    "def simple_CNN_multiclass(embedding_layer):\n",
    "    simple_CNN_multiclass = Sequential()\n",
    "    simple_CNN_multiclass.add(embedding_layer)\n",
    "    simple_CNN_multiclass.add(Conv1D(filters=100, kernel_size=2, padding='valid', activation='relu', strides=1))\n",
    "    simple_CNN_multiclass.add(GlobalMaxPool1D())\n",
    "    simple_CNN_multiclass.add(Dense(256, activation='relu'))\n",
    "    simple_CNN_multiclass.add(Dense(5, activation='softmax'))\n",
    "    simple_CNN_multiclass.compile(loss='categorical_crossentropy', \n",
    "#                                          optimizer='adam', \n",
    "                                           optimizer=Adam(lr=1e-3),\n",
    "                                           metrics=['accuracy'])\n",
    "    \n",
    "    simple_CNN_multiclass.summary()\n",
    "    return simple_CNN_multiclass,\"simple_CNN_multiclass\"\n",
    "\n",
    "model, model_name = simple_CNN_multiclass(embedding_layer)"
   ]
  },
  {
   "cell_type": "code",
   "execution_count": null,
   "metadata": {},
   "outputs": [],
   "source": [
    "model = train_deep_model(model,\n",
    "                        X_train,y_train, \n",
    "                        X_val, y_val,\n",
    "                        BATCH_SIZE = 128, \n",
    "                        EPOCHS = 13, \n",
    "                        plot=True,\n",
    "                        callback=True,\n",
    "                        model_name= model_name )"
   ]
  },
  {
   "cell_type": "code",
   "execution_count": null,
   "metadata": {},
   "outputs": [],
   "source": [
    "generate_pred(model,X_test,y_test)"
   ]
  },
  {
   "cell_type": "code",
   "execution_count": null,
   "metadata": {},
   "outputs": [],
   "source": [
    "submission = generate_submission(model,X_submission,model_name)\n",
    "submission"
   ]
  },
  {
   "cell_type": "markdown",
   "metadata": {},
   "source": [
    "## 5- ELABORATED CNN WITH PARALLEL LAYERS AND DROPOUT\n",
    " "
   ]
  },
  {
   "cell_type": "code",
   "execution_count": null,
   "metadata": {},
   "outputs": [],
   "source": [
    "def parallelized_CNN_multiclass(embedding_layer):\n",
    "    input_ = Input(shape=(MAX_SEQUENCE_LENGTH,))\n",
    "    tweet_encoder = embedding_layer(input_)\n",
    "    bigram_branch = Conv1D(filters=100, kernel_size=2, padding='valid', activation='relu', strides=1)(tweet_encoder)\n",
    "    bigram_branch = GlobalMaxPool1D()(bigram_branch)\n",
    "    trigram_branch = Conv1D(filters=100, kernel_size=3, padding='valid', activation='relu', strides=1)(tweet_encoder)\n",
    "    trigram_branch = GlobalMaxPool1D()(trigram_branch)\n",
    "    fourgram_branch = Conv1D(filters=100, kernel_size=4, padding='valid', activation='relu', strides=1)(tweet_encoder)\n",
    "    fourgram_branch = GlobalMaxPool1D()(fourgram_branch)\n",
    "    fifthgram_branch = Conv1D(filters=100, kernel_size=5, padding='valid', activation='relu', strides=1)(tweet_encoder)\n",
    "    fifthgram_branch = GlobalMaxPool1D()(fifthgram_branch)\n",
    "    merged = concatenate([bigram_branch, trigram_branch,fourgram_branch,fifthgram_branch], axis=1)\n",
    "    merged = Dropout(0.5)(merged)\n",
    "    merged = Dense(5)(merged)\n",
    "    output = Activation('softmax')(merged)\n",
    "    parallelized_CNN_multiclass = Model(inputs=[input_], outputs=[output])\n",
    "\n",
    "    parallelized_CNN_multiclass.compile(loss='categorical_crossentropy', \n",
    "#                                          optimizer='adam', \n",
    "                                           optimizer=Adam(lr=1e-3),\n",
    "                                           metrics=['accuracy'])\n",
    "    \n",
    "    parallelized_CNN_multiclass.summary()\n",
    "    return parallelized_CNN_multiclass,\"parallelized_CNN_multiclass\"\n",
    "\n",
    "model, model_name = parallelized_CNN_multiclass(embedding_layer)"
   ]
  },
  {
   "cell_type": "code",
   "execution_count": null,
   "metadata": {},
   "outputs": [],
   "source": [
    "model = train_deep_model(model,\n",
    "                        X_train,y_train, \n",
    "                        X_val, y_val,\n",
    "                        BATCH_SIZE = 128, \n",
    "                        EPOCHS = 13, \n",
    "                        plot=True,\n",
    "                        callback=True,\n",
    "                        model_name= model_name )"
   ]
  },
  {
   "cell_type": "code",
   "execution_count": null,
   "metadata": {},
   "outputs": [],
   "source": [
    "generate_pred(model,X_test,y_test)"
   ]
  },
  {
   "cell_type": "code",
   "execution_count": null,
   "metadata": {},
   "outputs": [],
   "source": [
    "submission = generate_submission(model,X_submission,model_name)\n",
    "submission"
   ]
  },
  {
   "cell_type": "markdown",
   "metadata": {},
   "source": [
    "## 6- Hybrid model: CNN-LSTM"
   ]
  },
  {
   "cell_type": "code",
   "execution_count": null,
   "metadata": {},
   "outputs": [],
   "source": [
    "def hybrid_LSTM_CNN_multiclass(embedding_layer):\n",
    "    sequence_input = Input(shape=(MAX_SEQUENCE_LENGTH,))\n",
    "    embedded_sequences = embedding_layer(sequence_input)\n",
    "    drop_out_1 = Dropout(0.5, name='drop_out_1')(embedded_sequences)\n",
    "    biLSTM_1 = Bidirectional(LSTM(60, return_sequences=True))(embedded_sequences)\n",
    "    conv_1 = Conv1D(128, 2, activation='relu', name='conv_1')(biLSTM_1)\n",
    "    gmp_1 = GlobalMaxPool1D(name='gmp_1')(conv_1)\n",
    "    conv_2 = Conv1D(128, 3, activation='relu', name='conv_2')(biLSTM_1)\n",
    "    gmp_2 = GlobalMaxPool1D(name='gmp_2')(conv_2)\n",
    "    conv_3 = Conv1D(128, 4, activation='relu', name='conv_3')(biLSTM_1)\n",
    "    gmp_3 = GlobalMaxPool1D(name='gmp_3')(conv_3)\n",
    "\n",
    "    concat = concatenate([gmp_1,gmp_2,gmp_3])\n",
    "    # concat = concatenate([gmp_1,gmp_2])\n",
    "\n",
    "    drop_out_2 = Dropout(0.5, name='drop_out_2')(concat)\n",
    "    mp_dense = Dense(64, activation='relu', name='mp_dense')(drop_out_2)\n",
    "    drop_out_3 = Dropout(0.5, name='drop_out_2')(mp_dense)\n",
    "    \n",
    "    preds = Dense(5, activation='softmax', name='preds')(mp_dense)\n",
    "    hybrid_LSTM_CNN_multiclass = Model(sequence_input, preds)\n",
    "\n",
    "    hybrid_LSTM_CNN_multiclass.compile(loss='categorical_crossentropy', \n",
    "#                                          optimizer='adam', \n",
    "                                           optimizer=Adam(lr=1e-3),\n",
    "                                           metrics=['accuracy'])\n",
    "    \n",
    "    hybrid_LSTM_CNN_multiclass.summary()\n",
    "    return hybrid_LSTM_CNN_multiclass,\"hybrid_LSTM_CNN_multiclass\"\n",
    "\n",
    "model, model_name = hybrid_LSTM_CNN_multiclass(embedding_layer)"
   ]
  },
  {
   "cell_type": "code",
   "execution_count": null,
   "metadata": {},
   "outputs": [],
   "source": [
    "model = train_deep_model(model,\n",
    "                        X_train,y_train, \n",
    "                        X_val, y_val,\n",
    "                        BATCH_SIZE = 128, \n",
    "                        EPOCHS = 13, \n",
    "                        plot=True,\n",
    "                        callback=True,\n",
    "                        model_name= model_name )"
   ]
  },
  {
   "cell_type": "code",
   "execution_count": null,
   "metadata": {},
   "outputs": [],
   "source": [
    "generate_pred(model,X_test,y_test)"
   ]
  },
  {
   "cell_type": "code",
   "execution_count": null,
   "metadata": {},
   "outputs": [],
   "source": [
    "submission = generate_submission(model,X_submission,model_name)\n",
    "submission"
   ]
  },
  {
   "cell_type": "markdown",
   "metadata": {},
   "source": [
    "# TRANSFORMERS"
   ]
  },
  {
   "cell_type": "code",
   "execution_count": null,
   "metadata": {},
   "outputs": [],
   "source": [
    "module_url = \"https://tfhub.dev/tensorflow/bert_en_uncased_L-24_H-1024_A-16/1\"\n",
    "bert_layer = hub.KerasLayer(module_url, trainable=True)"
   ]
  },
  {
   "cell_type": "code",
   "execution_count": null,
   "metadata": {},
   "outputs": [],
   "source": [
    "vocab_file = bert_layer.resolved_object.vocab_file.asset_path.numpy()\n",
    "do_lower_case = bert_layer.resolved_object.do_lower_case.numpy()"
   ]
  },
  {
   "cell_type": "code",
   "execution_count": null,
   "metadata": {},
   "outputs": [],
   "source": [
    "tokenizer = tokenization.FullTokenizer(vocab_file, do_lower_case)"
   ]
  },
  {
   "cell_type": "code",
   "execution_count": null,
   "metadata": {},
   "outputs": [],
   "source": [
    "def build_model(bert_layer, max_len=MAX_SEQUENCE_LENGTH):\n",
    "    input_word_ids = tf.keras.Input(shape=(max_len,), dtype=tf.int32, name=\"input_word_ids\")\n",
    "    input_mask = tf.keras.Input(shape=(max_len,), dtype=tf.int32, name=\"input_mask\")\n",
    "    segment_ids = tf.keras.Input(shape=(max_len,), dtype=tf.int32, name=\"segment_ids\")\n",
    "\n",
    "    pooled_output, sequence_output = bert_layer([input_word_ids, input_mask, segment_ids])\n",
    "    clf_output = sequence_output[:, 0, :]\n",
    "    net = tf.keras.layers.Dense(64, activation='relu')(clf_output)\n",
    "    net = tf.keras.layers.Dropout(0.2)(net)\n",
    "    net = tf.keras.layers.Dense(32, activation='relu')(net)\n",
    "    net = tf.keras.layers.Dropout(0.2)(net)\n",
    "    out = tf.keras.layers.Dense(5, activation='softmax')(net)\n",
    "    \n",
    "    model = tf.keras.models.Model(inputs=[input_word_ids, input_mask, segment_ids], outputs=out)\n",
    "    model.compile(tf.keras.optimizers.Adam(lr=1e-5), \n",
    "                  loss='categorical_crossentropy', \n",
    "                  metrics=['accuracy'])\n",
    "    \n",
    "    model.summary()\n",
    "    return model, \"bert_model\""
   ]
  },
  {
   "cell_type": "code",
   "execution_count": null,
   "metadata": {},
   "outputs": [],
   "source": [
    "# train_input = bert_encode(X_train.values, tokenizer, max_len=150)\n",
    "# val_input = bert_encode(X_val.values, tokenizer, max_len=150)\n",
    "# test_input = bert_encode(X_test.values, tokenizer, max_len=150)\n",
    "# sub_input = bert_encode(df_submission.review.values, tokenizer, max_len=150)\n",
    "\n",
    "# new_model = tf.keras.models.load_model('../input/test-models/model.h5',custom_objects={'KerasLayer':hub.KerasLayer})\n",
    "# new_model.summary()"
   ]
  },
  {
   "cell_type": "code",
   "execution_count": null,
   "metadata": {},
   "outputs": [],
   "source": [
    "train_input = bert_encode(X_train_bert, tokenizer, max_len=MAX_SEQUENCE_LENGTH)\n",
    "val_input = bert_encode(X_val_bert, tokenizer, max_len=MAX_SEQUENCE_LENGTH)\n",
    "test_input = bert_encode(X_test_bert, tokenizer, max_len=MAX_SEQUENCE_LENGTH)\n",
    "sub_input = bert_encode(df_submission.review.values, tokenizer, max_len=MAX_SEQUENCE_LENGTH)"
   ]
  },
  {
   "cell_type": "code",
   "execution_count": null,
   "metadata": {},
   "outputs": [],
   "source": [
    "model,model_name = build_model(bert_layer, max_len=MAX_SEQUENCE_LENGTH)\n",
    "\n",
    "# bert_model = tf.keras.models.load_model('../input/test-models/model.h5',custom_objects={'KerasLayer':hub.KerasLayer})\n",
    "# bert_model.summary()"
   ]
  },
  {
   "cell_type": "code",
   "execution_count": null,
   "metadata": {},
   "outputs": [],
   "source": [
    "model = train_bert_model(model,\n",
    "                        train_input,y_train_bert, \n",
    "                        val_input,y_val_bert,\n",
    "                        BATCH_SIZE = 50, \n",
    "                        EPOCHS = 8, \n",
    "                        plot=True,\n",
    "                        callback=True,\n",
    "                        model_name= model_name)"
   ]
  },
  {
   "cell_type": "code",
   "execution_count": null,
   "metadata": {},
   "outputs": [],
   "source": [
    "generate_pred(model,test_input,y_test_bert)"
   ]
  },
  {
   "cell_type": "code",
   "execution_count": null,
   "metadata": {},
   "outputs": [],
   "source": [
    "submission = generate_submission(model,sub_input,model_name)\n",
    "submission"
   ]
  },
  {
   "cell_type": "code",
   "execution_count": null,
   "metadata": {},
   "outputs": [],
   "source": []
  },
  {
   "cell_type": "code",
   "execution_count": null,
   "metadata": {},
   "outputs": [],
   "source": []
  },
  {
   "cell_type": "code",
   "execution_count": null,
   "metadata": {},
   "outputs": [],
   "source": []
  }
 ],
 "metadata": {
  "kernelspec": {
   "display_name": "Python 3",
   "language": "python",
   "name": "python3"
  },
  "language_info": {
   "codemirror_mode": {
    "name": "ipython",
    "version": 3
   },
   "file_extension": ".py",
   "mimetype": "text/x-python",
   "name": "python",
   "nbconvert_exporter": "python",
   "pygments_lexer": "ipython3",
   "version": "3.8.8"
  }
 },
 "nbformat": 4,
 "nbformat_minor": 4
}
