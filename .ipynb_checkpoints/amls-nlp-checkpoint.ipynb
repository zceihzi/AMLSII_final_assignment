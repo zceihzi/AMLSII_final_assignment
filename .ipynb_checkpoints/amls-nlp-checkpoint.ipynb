{
 "cells": [
  {
   "cell_type": "code",
   "execution_count": 2,
   "id": "mineral-advancement",
   "metadata": {
    "execution": {
     "iopub.execute_input": "2021-04-06T19:44:07.047377Z",
     "iopub.status.busy": "2021-04-06T19:44:07.038745Z",
     "iopub.status.idle": "2021-04-06T19:44:36.735484Z",
     "shell.execute_reply": "2021-04-06T19:44:36.734374Z"
    },
    "papermill": {
     "duration": 29.762205,
     "end_time": "2021-04-06T19:44:36.735644",
     "exception": false,
     "start_time": "2021-04-06T19:44:06.973439",
     "status": "completed"
    },
    "tags": []
   },
   "outputs": [],
   "source": [
    "from functions import *\n",
    "\n",
    "def train_deep_model(model,X_train, y_train, X_val, y_val, BATCH_SIZE, EPOCHS, plot, callback,model_name):\n",
    "    # load pre-trained word embeddings into an Embedding layer\n",
    "    # the trainable parameter is set to False so as to keep the embeddings fixed\n",
    "    if callback is True:\n",
    "        logdir = os.path.join(\"logs/\"+str(model_name))        \n",
    "        tensorboard_callback = tf.keras.callbacks.TensorBoard(logdir, histogram_freq=1)\n",
    "        cm_callback = keras.callbacks.LambdaCallback(on_epoch_end=log_confusion_matrix)\n",
    "\n",
    "        history = model.fit(X_train,\n",
    "                  to_categorical(y_train),\n",
    "                  batch_size=BATCH_SIZE,\n",
    "                  epochs=EPOCHS,\n",
    "                  validation_data=(X_val,to_categorical(y_val)),\n",
    "                  callbacks=[tensorboard_callback,cm_callback])\n",
    "        \n",
    "    else:\n",
    "        history = model.fit(X_train,\n",
    "                  to_categorical(y_train),\n",
    "                  batch_size=BATCH_SIZE,\n",
    "                  epochs=EPOCHS,\n",
    "                  validation_data=(X_val,to_categorical(y_val)))\n",
    "\n",
    "    if plot is True:\n",
    "        fig,(ax) = plt.subplots(1, 2, figsize=(13,4))\n",
    "        ax[0].set_title(\"Training and Validation Accuracy\")\n",
    "        ax[0].plot(history.history['loss'], label='loss')\n",
    "        ax[0].plot(history.history['val_loss'], label='val_loss')\n",
    "        ax[0].legend(loc='upper right')\n",
    "\n",
    "        ax[1].set_title(\"Training and Validation Accuracy\")\n",
    "        ax[1].plot(history.history['accuracy'], label='acc')\n",
    "        ax[1].plot(history.history['val_accuracy'], label='val_acc')\n",
    "        ax[1].legend(loc='lower right')\n",
    "        plt.show()\n",
    "    return model\n",
    "    \n",
    "def plot_confusion_matrix(cm):\n",
    "    #class_names = [\"Negative\",\"Positive\"]\n",
    "    #class_names = [\"Negative\",\"Neutral\",\"Positive\"]\n",
    "    class_names = [\"Very Negative\",\"Negative\",\"Neutral\",\"Positive\", \"Very Positive\"]\n",
    "    figure = plt.figure(figsize=(8, 8))\n",
    "    plt.imshow(cm, interpolation='nearest', cmap=plt.cm.Blues)\n",
    "    plt.title(\"Confusion matrix\")\n",
    "    plt.colorbar()\n",
    "    tick_marks = np.arange(len(class_names))\n",
    "    plt.xticks(tick_marks, class_names, rotation=45)\n",
    "    plt.yticks(tick_marks, class_names)\n",
    "\n",
    "    # Compute the labels from the normalized confusion matrix.\n",
    "    labels = np.around(cm.astype('float') / cm.sum(axis=1)[:, np.newaxis], decimals=2)\n",
    "\n",
    "    # Use white text if squares are dark; otherwise black.\n",
    "    threshold = cm.max() / 2.\n",
    "    for i, j in itertools.product(range(cm.shape[0]), range(cm.shape[1])):\n",
    "        color = \"white\" if cm[i, j] > threshold else \"black\"\n",
    "        plt.text(j, i, labels[i, j], horizontalalignment=\"center\", color=color)\n",
    "\n",
    "    plt.tight_layout()\n",
    "    plt.ylabel('True label')\n",
    "    plt.xlabel('Predicted label')\n",
    "    return figure\n",
    "      \n",
    "def plot_to_image(figure):\n",
    "    # Save the plot to a PNG in memory.\n",
    "    buf = io.BytesIO()\n",
    "    plt.savefig(buf, format='png')\n",
    "    # Closing the figure prevents it from being displayed directly inside\n",
    "    # the notebook.\n",
    "    plt.close(figure)\n",
    "    buf.seek(0)\n",
    "    # Convert PNG buffer to TF image\n",
    "    image = tf.image.decode_png(buf.getvalue(), channels=4)\n",
    "    # Add the batch dimension\n",
    "    image = tf.expand_dims(image, 0)\n",
    "    return image\n",
    "\n",
    "def log_confusion_matrix(epoch, logs):\n",
    "  # Use the model to predict the values from the validation dataset.\n",
    "    test_pred_raw = model.predict(X_val)\n",
    "    test_pred = np.argmax(test_pred_raw, axis=1)\n",
    "    # Calculate the confusion matrix.\n",
    "    cm = sklearn.metrics.confusion_matrix(y_val, test_pred)\n",
    "    # Log the confusion matrix as an image summary.\n",
    "    figure = plot_confusion_matrix(cm)\n",
    "    cm_image = plot_to_image(figure)\n",
    "    logdir = os.path.join(\"logs/\"+str(model_name))        \n",
    "    file_writer_cm = tf.summary.create_file_writer(logdir + '/cm')\n",
    "    # Log the confusion matrix as an image summary.\n",
    "    with file_writer_cm.as_default():\n",
    "        tf.summary.image(\"Confusion Matrix\", cm_image, step=epoch)"
   ]
  },
  {
   "cell_type": "markdown",
   "id": "nutritional-recycling",
   "metadata": {
    "papermill": {
     "duration": 0.045293,
     "end_time": "2021-04-06T19:44:37.023528",
     "exception": false,
     "start_time": "2021-04-06T19:44:36.978235",
     "status": "completed"
    },
    "tags": []
   },
   "source": [
    "# 1- Data Loading and visualisation"
   ]
  },
  {
   "cell_type": "code",
   "execution_count": 3,
   "id": "younger-torture",
   "metadata": {
    "execution": {
     "iopub.execute_input": "2021-04-06T19:44:37.125778Z",
     "iopub.status.busy": "2021-04-06T19:44:37.125203Z",
     "iopub.status.idle": "2021-04-06T19:44:37.448323Z",
     "shell.execute_reply": "2021-04-06T19:44:37.447808Z"
    },
    "papermill": {
     "duration": 0.378846,
     "end_time": "2021-04-06T19:44:37.448459",
     "exception": false,
     "start_time": "2021-04-06T19:44:37.069613",
     "status": "completed"
    },
    "tags": []
   },
   "outputs": [],
   "source": [
    "# ----------------------------- IMDB 4 scale  -----------------------------------------\n",
    "df_submission = load_sub_data()\n",
    "df_submission = df_submission\n",
    "df_train = load_train_data()\n",
    "df_train = df_train\n",
    "\n",
    "# df_submission = df_submission[0:1000]\n",
    "# df_train=df_train[0:1000]"
   ]
  },
  {
   "cell_type": "code",
   "execution_count": 4,
   "id": "local-milwaukee",
   "metadata": {
    "execution": {
     "iopub.execute_input": "2021-04-06T19:44:37.543813Z",
     "iopub.status.busy": "2021-04-06T19:44:37.543064Z",
     "iopub.status.idle": "2021-04-06T19:44:37.701221Z",
     "shell.execute_reply": "2021-04-06T19:44:37.701667Z"
    },
    "papermill": {
     "duration": 0.207855,
     "end_time": "2021-04-06T19:44:37.701802",
     "exception": false,
     "start_time": "2021-04-06T19:44:37.493947",
     "status": "completed"
    },
    "tags": []
   },
   "outputs": [
    {
     "name": "stdout",
     "output_type": "stream",
     "text": [
      "2    79582\n",
      "3    32927\n",
      "1    27273\n",
      "4     9206\n",
      "0     7072\n",
      "Name: sentiment, dtype: int64\n"
     ]
    },
    {
     "data": {
      "image/png": "[encoded data removed]",
      "text/plain": [
       "<Figure size 432x288 with 1 Axes>"
      ]
     },
     "metadata": {
      "needs_background": "light"
     },
     "output_type": "display_data"
    }
   ],
   "source": [
    "plot_class_distribution(df_train[\"sentiment\"])"
   ]
  },
  {
   "cell_type": "markdown",
   "id": "catholic-trouble",
   "metadata": {
    "papermill": {
     "duration": 0.046245,
     "end_time": "2021-04-06T19:44:37.794640",
     "exception": false,
     "start_time": "2021-04-06T19:44:37.748395",
     "status": "completed"
    },
    "tags": []
   },
   "source": [
    "# 2- Data pre-processing"
   ]
  },
  {
   "cell_type": "markdown",
   "id": "alpine-frequency",
   "metadata": {
    "papermill": {
     "duration": 0.046322,
     "end_time": "2021-04-06T19:44:37.886968",
     "exception": false,
     "start_time": "2021-04-06T19:44:37.840646",
     "status": "completed"
    },
    "tags": []
   },
   "source": [
    "### Data cleaning "
   ]
  },
  {
   "cell_type": "code",
   "execution_count": null,
   "id": "bizarre-stamp",
   "metadata": {
    "execution": {
     "iopub.execute_input": "2021-04-06T19:44:37.985499Z",
     "iopub.status.busy": "2021-04-06T19:44:37.984870Z",
     "iopub.status.idle": "2021-04-06T19:44:46.144143Z",
     "shell.execute_reply": "2021-04-06T19:44:46.143044Z"
    },
    "papermill": {
     "duration": 8.211043,
     "end_time": "2021-04-06T19:44:46.144326",
     "exception": false,
     "start_time": "2021-04-06T19:44:37.933283",
     "status": "completed"
    },
    "tags": []
   },
   "outputs": [],
   "source": [
    "df_train = data_cleaning(df_train)\n",
    "df_submission = data_cleaning(df_submission)"
   ]
  },
  {
   "cell_type": "markdown",
   "id": "saving-employer",
   "metadata": {
    "papermill": {
     "duration": 0.046002,
     "end_time": "2021-04-06T19:44:46.237317",
     "exception": false,
     "start_time": "2021-04-06T19:44:46.191315",
     "status": "completed"
    },
    "tags": []
   },
   "source": [
    "### Transformation to TF-IDF features"
   ]
  },
  {
   "cell_type": "code",
   "execution_count": 6,
   "id": "angry-straight",
   "metadata": {
    "execution": {
     "iopub.execute_input": "2021-04-06T19:44:46.334569Z",
     "iopub.status.busy": "2021-04-06T19:44:46.333971Z",
     "iopub.status.idle": "2021-04-06T19:44:46.337975Z",
     "shell.execute_reply": "2021-04-06T19:44:46.337467Z"
    },
    "papermill": {
     "duration": 0.053865,
     "end_time": "2021-04-06T19:44:46.338091",
     "exception": false,
     "start_time": "2021-04-06T19:44:46.284226",
     "status": "completed"
    },
    "tags": []
   },
   "outputs": [],
   "source": [
    "# best_par = return_best_tfidf(df_train)"
   ]
  },
  {
   "cell_type": "code",
   "execution_count": 7,
   "id": "boxed-reproduction",
   "metadata": {
    "execution": {
     "iopub.execute_input": "2021-04-06T19:44:46.434347Z",
     "iopub.status.busy": "2021-04-06T19:44:46.433795Z",
     "iopub.status.idle": "2021-04-06T19:44:46.437771Z",
     "shell.execute_reply": "2021-04-06T19:44:46.437373Z"
    },
    "papermill": {
     "duration": 0.053343,
     "end_time": "2021-04-06T19:44:46.437888",
     "exception": false,
     "start_time": "2021-04-06T19:44:46.384545",
     "status": "completed"
    },
    "tags": []
   },
   "outputs": [],
   "source": [
    "X_TfIdf = Tfidf_transformation(df_train,ngram_range=(1,1))\n",
    "# X_TfIdf = Tfidf_transformation(df_train,ngram_range= best_par[\"tfidf__ngram_range\"])"
   ]
  },
  {
   "cell_type": "markdown",
   "id": "compressed-cargo",
   "metadata": {
    "papermill": {
     "duration": 0.046208,
     "end_time": "2021-04-06T19:44:46.530770",
     "exception": false,
     "start_time": "2021-04-06T19:44:46.484562",
     "status": "completed"
    },
    "tags": []
   },
   "source": [
    "### Transformation to word2Vec features using gensim"
   ]
  },
  {
   "cell_type": "code",
   "execution_count": 8,
   "id": "referenced-thirty",
   "metadata": {
    "execution": {
     "iopub.execute_input": "2021-04-06T19:44:46.628001Z",
     "iopub.status.busy": "2021-04-06T19:44:46.627231Z",
     "iopub.status.idle": "2021-04-06T19:44:46.630849Z",
     "shell.execute_reply": "2021-04-06T19:44:46.630379Z"
    },
    "papermill": {
     "duration": 0.05346,
     "end_time": "2021-04-06T19:44:46.630972",
     "exception": false,
     "start_time": "2021-04-06T19:44:46.577512",
     "status": "completed"
    },
    "tags": []
   },
   "outputs": [],
   "source": [
    "# X_word2Vec = load_pkl(\"../input/word2vec-embedding/X_word2Vec.pkl\")\n",
    "# X_word2Vec = word2Vec_transform(df_train,True)"
   ]
  },
  {
   "cell_type": "markdown",
   "id": "removable-courage",
   "metadata": {
    "papermill": {
     "duration": 0.047827,
     "end_time": "2021-04-06T19:44:46.725959",
     "exception": false,
     "start_time": "2021-04-06T19:44:46.678132",
     "status": "completed"
    },
    "tags": []
   },
   "source": [
    "# 3- Data partitionning"
   ]
  },
  {
   "cell_type": "markdown",
   "id": "desperate-tokyo",
   "metadata": {
    "papermill": {
     "duration": 0.046342,
     "end_time": "2021-04-06T19:44:46.818743",
     "exception": false,
     "start_time": "2021-04-06T19:44:46.772401",
     "status": "completed"
    },
    "tags": []
   },
   "source": [
    "### Create sets using the original data"
   ]
  },
  {
   "cell_type": "code",
   "execution_count": 9,
   "id": "serial-sound",
   "metadata": {
    "execution": {
     "iopub.execute_input": "2021-04-06T19:44:46.920910Z",
     "iopub.status.busy": "2021-04-06T19:44:46.916990Z",
     "iopub.status.idle": "2021-04-06T19:44:46.942517Z",
     "shell.execute_reply": "2021-04-06T19:44:46.940658Z"
    },
    "papermill": {
     "duration": 0.07713,
     "end_time": "2021-04-06T19:44:46.942640",
     "exception": false,
     "start_time": "2021-04-06T19:44:46.865510",
     "status": "completed"
    },
    "tags": []
   },
   "outputs": [
    {
     "name": "stdout",
     "output_type": "stream",
     "text": [
      "Overall class distribution in this dataset\n",
      "2    55614\n",
      "3    23045\n",
      "1    19120\n",
      "4     6502\n",
      "0     4960\n",
      "dtype: int64\n",
      "2    11997\n",
      "3     4849\n",
      "1     4169\n",
      "4     1341\n",
      "0     1053\n",
      "dtype: int64\n",
      "\n",
      "X_train has shape: (109241,)\n",
      "y_train has shape: (109241,)\n",
      "X_val has shape: (23409,)\n",
      "y_val has shape: (23409,)\n",
      "X_test has shape: (23410,)\n",
      "y_test has shape: (23410,)\n"
     ]
    }
   ],
   "source": [
    "X_train,X_val,X_test,y_train,y_val,y_test = data_partitioning(df_train[\"review\"].values,df_train[\"sentiment\"].values,test_size=0.3,summary=True)"
   ]
  },
  {
   "cell_type": "markdown",
   "id": "broke-raising",
   "metadata": {
    "papermill": {
     "duration": 0.046933,
     "end_time": "2021-04-06T19:44:47.036851",
     "exception": false,
     "start_time": "2021-04-06T19:44:46.989918",
     "status": "completed"
    },
    "tags": []
   },
   "source": [
    "### Create sets to be used when converted into TFIDF features"
   ]
  },
  {
   "cell_type": "code",
   "execution_count": 10,
   "id": "motivated-macro",
   "metadata": {
    "execution": {
     "iopub.execute_input": "2021-04-06T19:44:47.136036Z",
     "iopub.status.busy": "2021-04-06T19:44:47.135514Z",
     "iopub.status.idle": "2021-04-06T19:44:47.139571Z",
     "shell.execute_reply": "2021-04-06T19:44:47.139142Z"
    },
    "papermill": {
     "duration": 0.055334,
     "end_time": "2021-04-06T19:44:47.139683",
     "exception": false,
     "start_time": "2021-04-06T19:44:47.084349",
     "status": "completed"
    },
    "tags": []
   },
   "outputs": [],
   "source": [
    "# X_train_TfIdf,X_val_TfIdf,X_test_TfIdf,y_train_TfIdf,y_val_TfIdf,y_test_TfIdf = data_partitioning(X_TfIdf,df_train[\"sentiment\"].values,test_size=0.3,summary=False)"
   ]
  },
  {
   "cell_type": "markdown",
   "id": "standing-transition",
   "metadata": {
    "papermill": {
     "duration": 0.047465,
     "end_time": "2021-04-06T19:44:47.235124",
     "exception": false,
     "start_time": "2021-04-06T19:44:47.187659",
     "status": "completed"
    },
    "tags": []
   },
   "source": [
    "### Create sets to be used when converted into Word2Vec features"
   ]
  },
  {
   "cell_type": "code",
   "execution_count": 11,
   "id": "cubic-wrong",
   "metadata": {
    "execution": {
     "iopub.execute_input": "2021-04-06T19:44:47.333844Z",
     "iopub.status.busy": "2021-04-06T19:44:47.333270Z",
     "iopub.status.idle": "2021-04-06T19:44:47.337166Z",
     "shell.execute_reply": "2021-04-06T19:44:47.336747Z"
    },
    "papermill": {
     "duration": 0.054524,
     "end_time": "2021-04-06T19:44:47.337300",
     "exception": false,
     "start_time": "2021-04-06T19:44:47.282776",
     "status": "completed"
    },
    "tags": []
   },
   "outputs": [],
   "source": [
    "# X_train_word2Vec,X_val_word2Vec,X_test_word2Vec,y_train_word2Vec,y_val_word2Vec,y_test_word2Vec= data_partitioning(X_word2Vec,df_train[\"sentiment\"].values,test_size=0.3, summary=False)"
   ]
  },
  {
   "cell_type": "markdown",
   "id": "separate-worker",
   "metadata": {
    "papermill": {
     "duration": 0.047285,
     "end_time": "2021-04-06T19:44:47.432146",
     "exception": false,
     "start_time": "2021-04-06T19:44:47.384861",
     "status": "completed"
    },
    "tags": []
   },
   "source": [
    "### Create sets to be used when converted into BERT features"
   ]
  },
  {
   "cell_type": "code",
   "execution_count": 12,
   "id": "commercial-birthday",
   "metadata": {
    "execution": {
     "iopub.execute_input": "2021-04-06T19:44:47.535697Z",
     "iopub.status.busy": "2021-04-06T19:44:47.531736Z",
     "iopub.status.idle": "2021-04-06T19:44:47.550789Z",
     "shell.execute_reply": "2021-04-06T19:44:47.550385Z"
    },
    "papermill": {
     "duration": 0.071279,
     "end_time": "2021-04-06T19:44:47.550899",
     "exception": false,
     "start_time": "2021-04-06T19:44:47.479620",
     "status": "completed"
    },
    "tags": []
   },
   "outputs": [],
   "source": [
    "X_train_bert,X_val_bert,X_test_bert,y_train_bert,y_val_bert,y_test_bert = data_partitioning(df_train[\"review\"].values,df_train[\"sentiment\"].values,test_size=0.3,summary=False)"
   ]
  },
  {
   "cell_type": "markdown",
   "id": "round-works",
   "metadata": {
    "papermill": {
     "duration": 0.047061,
     "end_time": "2021-04-06T19:44:47.645104",
     "exception": false,
     "start_time": "2021-04-06T19:44:47.598043",
     "status": "completed"
    },
    "tags": []
   },
   "source": [
    "# 4- Inference step using Logistic regression"
   ]
  },
  {
   "cell_type": "markdown",
   "id": "governmental-manual",
   "metadata": {
    "papermill": {
     "duration": 0.048567,
     "end_time": "2021-04-06T19:44:47.740743",
     "exception": false,
     "start_time": "2021-04-06T19:44:47.692176",
     "status": "completed"
    },
    "tags": []
   },
   "source": [
    "### Sentiment prediction using TF-IDF embeddings"
   ]
  },
  {
   "cell_type": "code",
   "execution_count": 13,
   "id": "nearby-destiny",
   "metadata": {
    "execution": {
     "iopub.execute_input": "2021-04-06T19:44:47.838729Z",
     "iopub.status.busy": "2021-04-06T19:44:47.838179Z",
     "iopub.status.idle": "2021-04-06T19:44:47.841930Z",
     "shell.execute_reply": "2021-04-06T19:44:47.841494Z"
    },
    "papermill": {
     "duration": 0.054096,
     "end_time": "2021-04-06T19:44:47.842033",
     "exception": false,
     "start_time": "2021-04-06T19:44:47.787937",
     "status": "completed"
    },
    "tags": []
   },
   "outputs": [],
   "source": [
    "# LR_predict(X_train_TfIdf,y_train_TfIdf,X_test_TfIdf,y_test_TfIdf)"
   ]
  },
  {
   "cell_type": "markdown",
   "id": "partial-washington",
   "metadata": {
    "papermill": {
     "duration": 0.047381,
     "end_time": "2021-04-06T19:44:47.937026",
     "exception": false,
     "start_time": "2021-04-06T19:44:47.889645",
     "status": "completed"
    },
    "tags": []
   },
   "source": [
    "### Dimensionality reduction using Truncated Singular Value Decomposition (TSVD)"
   ]
  },
  {
   "cell_type": "code",
   "execution_count": 14,
   "id": "artistic-bhutan",
   "metadata": {
    "execution": {
     "iopub.execute_input": "2021-04-06T19:44:48.036529Z",
     "iopub.status.busy": "2021-04-06T19:44:48.034843Z",
     "iopub.status.idle": "2021-04-06T19:44:48.037140Z",
     "shell.execute_reply": "2021-04-06T19:44:48.037579Z"
    },
    "papermill": {
     "duration": 0.053297,
     "end_time": "2021-04-06T19:44:48.037702",
     "exception": false,
     "start_time": "2021-04-06T19:44:47.984405",
     "status": "completed"
    },
    "tags": []
   },
   "outputs": [],
   "source": [
    "# X_train_TfIdf,X_test_TfIdf,tsvd = apply_TSVD(X_train_TfIdf,X_test_TfIdf,True,10000)"
   ]
  },
  {
   "cell_type": "markdown",
   "id": "opposed-warehouse",
   "metadata": {
    "papermill": {
     "duration": 0.04761,
     "end_time": "2021-04-06T19:44:48.132776",
     "exception": false,
     "start_time": "2021-04-06T19:44:48.085166",
     "status": "completed"
    },
    "tags": []
   },
   "source": [
    "### Sentiment prediction using TF-IDF embeddings after diemnsionality reduction"
   ]
  },
  {
   "cell_type": "code",
   "execution_count": 15,
   "id": "wireless-hamburg",
   "metadata": {
    "execution": {
     "iopub.execute_input": "2021-04-06T19:44:48.232438Z",
     "iopub.status.busy": "2021-04-06T19:44:48.230727Z",
     "iopub.status.idle": "2021-04-06T19:44:48.233037Z",
     "shell.execute_reply": "2021-04-06T19:44:48.233471Z"
    },
    "papermill": {
     "duration": 0.05333,
     "end_time": "2021-04-06T19:44:48.233595",
     "exception": false,
     "start_time": "2021-04-06T19:44:48.180265",
     "status": "completed"
    },
    "tags": []
   },
   "outputs": [],
   "source": [
    "# LR_predict(X_train_TfIdf,y_train_TfIdf,X_test_TfIdf,y_test_TfIdf)"
   ]
  },
  {
   "cell_type": "markdown",
   "id": "false-manner",
   "metadata": {
    "papermill": {
     "duration": 0.04698,
     "end_time": "2021-04-06T19:44:48.328964",
     "exception": false,
     "start_time": "2021-04-06T19:44:48.281984",
     "status": "completed"
    },
    "tags": []
   },
   "source": [
    "### Sentiment prediction using Word2Vec embeddings"
   ]
  },
  {
   "cell_type": "code",
   "execution_count": 16,
   "id": "flying-worcester",
   "metadata": {
    "execution": {
     "iopub.execute_input": "2021-04-06T19:44:48.426970Z",
     "iopub.status.busy": "2021-04-06T19:44:48.426484Z",
     "iopub.status.idle": "2021-04-06T19:44:48.430118Z",
     "shell.execute_reply": "2021-04-06T19:44:48.429731Z"
    },
    "papermill": {
     "duration": 0.053866,
     "end_time": "2021-04-06T19:44:48.430218",
     "exception": false,
     "start_time": "2021-04-06T19:44:48.376352",
     "status": "completed"
    },
    "tags": []
   },
   "outputs": [],
   "source": [
    "# LR_predict(X_train_word2Vec,y_train_word2Vec,X_test_word2Vec,y_test_word2Vec)"
   ]
  },
  {
   "cell_type": "markdown",
   "id": "broken-working",
   "metadata": {
    "papermill": {
     "duration": 0.047267,
     "end_time": "2021-04-06T19:44:48.525261",
     "exception": false,
     "start_time": "2021-04-06T19:44:48.477994",
     "status": "completed"
    },
    "tags": []
   },
   "source": [
    "# 5- Inference step using Deep Learning"
   ]
  },
  {
   "cell_type": "markdown",
   "id": "hybrid-unknown",
   "metadata": {
    "papermill": {
     "duration": 0.047383,
     "end_time": "2021-04-06T19:44:48.620024",
     "exception": false,
     "start_time": "2021-04-06T19:44:48.572641",
     "status": "completed"
    },
    "tags": []
   },
   "source": [
    "### Data encoding and embedding layer creation with Word2vec Transfer Learning"
   ]
  },
  {
   "cell_type": "code",
   "execution_count": 17,
   "id": "parallel-gardening",
   "metadata": {
    "execution": {
     "iopub.execute_input": "2021-04-06T19:44:48.720818Z",
     "iopub.status.busy": "2021-04-06T19:44:48.720035Z",
     "iopub.status.idle": "2021-04-06T19:45:49.257368Z",
     "shell.execute_reply": "2021-04-06T19:45:49.256210Z"
    },
    "papermill": {
     "duration": 60.590086,
     "end_time": "2021-04-06T19:45:49.257500",
     "exception": false,
     "start_time": "2021-04-06T19:44:48.667414",
     "status": "completed"
    },
    "tags": []
   },
   "outputs": [
    {
     "name": "stdout",
     "output_type": "stream",
     "text": [
      "Maximum sentence lenght:  52\n",
      "Found 19284 unique tokens in the dataset.\n",
      "Loading word vectors from local file...\n",
      "Shape of X_train data tensor: (109241, 52)\n",
      "Shape of X_val data tensor: (23409, 52)\n",
      "Shape of X_test data tensor: (23410, 52)\n",
      "Shape of X_submission data tensor: (66292, 52)\n",
      "Filling pre-trained embeddings...\n",
      "The final embedding matrix has shape:  (19285, 300)\n"
     ]
    }
   ],
   "source": [
    "EMBEDDING_DIM,MAX_SEQUENCE_LENGTH,MAX_VOCAB_SIZE,w2v_model,embedding_matrix,X_train,X_val,X_test,X_submission = load_pretrained_embedding_model(df_train,\n",
    "                                                                                                                                   df_submission, \n",
    "                                                                                                                                   X_train, \n",
    "                                                                                                                                   X_val,\n",
    "                                                                                                                                   X_test,\n",
    "                                                                                                                                   EMBEDDING_DIM = 300, \n",
    "                                                                                                                                   model = 'word2vec-google-news-300')"
   ]
  },
  {
   "cell_type": "code",
   "execution_count": 18,
   "id": "english-harrison",
   "metadata": {
    "execution": {
     "iopub.execute_input": "2021-04-06T19:45:49.362497Z",
     "iopub.status.busy": "2021-04-06T19:45:49.360736Z",
     "iopub.status.idle": "2021-04-06T19:45:49.363124Z",
     "shell.execute_reply": "2021-04-06T19:45:49.363531Z"
    },
    "papermill": {
     "duration": 0.056164,
     "end_time": "2021-04-06T19:45:49.363652",
     "exception": false,
     "start_time": "2021-04-06T19:45:49.307488",
     "status": "completed"
    },
    "tags": []
   },
   "outputs": [],
   "source": [
    "# embedding_layer = Embedding(MAX_VOCAB_SIZE,\n",
    "#                             EMBEDDING_DIM,\n",
    "#                             weights=[embedding_matrix],\n",
    "#                             input_length=MAX_SEQUENCE_LENGTH,\n",
    "#                             trainable=False)"
   ]
  },
  {
   "cell_type": "markdown",
   "id": "spanish-cyprus",
   "metadata": {
    "papermill": {
     "duration": 0.057862,
     "end_time": "2021-04-06T19:45:49.470981",
     "exception": false,
     "start_time": "2021-04-06T19:45:49.413119",
     "status": "completed"
    },
    "tags": []
   },
   "source": [
    "## 1- Long-Short-Term-Memory (LSTM)"
   ]
  },
  {
   "cell_type": "code",
   "execution_count": 19,
   "id": "athletic-penalty",
   "metadata": {
    "execution": {
     "iopub.execute_input": "2021-04-06T19:45:49.574645Z",
     "iopub.status.busy": "2021-04-06T19:45:49.573219Z",
     "iopub.status.idle": "2021-04-06T19:45:49.575679Z",
     "shell.execute_reply": "2021-04-06T19:45:49.576083Z"
    },
    "papermill": {
     "duration": 0.056013,
     "end_time": "2021-04-06T19:45:49.576203",
     "exception": false,
     "start_time": "2021-04-06T19:45:49.520190",
     "status": "completed"
    },
    "tags": []
   },
   "outputs": [],
   "source": [
    "# def simple_LSTM_model_multiclass(embedding_layer):\n",
    "#     simple_LSTM_model_multiclass = Sequential()\n",
    "#     simple_LSTM_model_multiclass.add(embedding_layer)\n",
    "#     simple_LSTM_model_multiclass.add(LSTM(128))\n",
    "#     simple_LSTM_model_multiclass.add(Dense(5, activation='softmax'))\n",
    "#     simple_LSTM_model_multiclass.compile(loss='categorical_crossentropy', \n",
    "# #                                          optimizer='adam', \n",
    "#                                          optimizer=Adam(lr=1e-3),\n",
    "#                                          metrics=['accuracy'])\n",
    "#     simple_LSTM_model_multiclass.summary()\n",
    "#     return simple_LSTM_model_multiclass,\"simple_LSTM_model_multiclass\"\n",
    "\n",
    "# model, model_name = simple_LSTM_model_multiclass(embedding_layer) "
   ]
  },
  {
   "cell_type": "code",
   "execution_count": 20,
   "id": "indoor-night",
   "metadata": {
    "execution": {
     "iopub.execute_input": "2021-04-06T19:45:49.680286Z",
     "iopub.status.busy": "2021-04-06T19:45:49.678568Z",
     "iopub.status.idle": "2021-04-06T19:45:49.680911Z",
     "shell.execute_reply": "2021-04-06T19:45:49.681321Z"
    },
    "papermill": {
     "duration": 0.055716,
     "end_time": "2021-04-06T19:45:49.681441",
     "exception": false,
     "start_time": "2021-04-06T19:45:49.625725",
     "status": "completed"
    },
    "tags": []
   },
   "outputs": [],
   "source": [
    "# model = train_deep_model(model,\n",
    "#                         X_train,y_train, \n",
    "#                         X_val, y_val,\n",
    "#                         BATCH_SIZE = 128, \n",
    "#                         EPOCHS = 10, \n",
    "#                         plot=True,\n",
    "#                         callback=True,\n",
    "#                         model_name= model_name)"
   ]
  },
  {
   "cell_type": "code",
   "execution_count": 21,
   "id": "traditional-spoke",
   "metadata": {
    "execution": {
     "iopub.execute_input": "2021-04-06T19:45:49.785168Z",
     "iopub.status.busy": "2021-04-06T19:45:49.784674Z",
     "iopub.status.idle": "2021-04-06T19:45:49.788425Z",
     "shell.execute_reply": "2021-04-06T19:45:49.787943Z"
    },
    "papermill": {
     "duration": 0.057579,
     "end_time": "2021-04-06T19:45:49.788592",
     "exception": false,
     "start_time": "2021-04-06T19:45:49.731013",
     "status": "completed"
    },
    "tags": []
   },
   "outputs": [],
   "source": [
    "# generate_pred(model,X_test,y_test)"
   ]
  },
  {
   "cell_type": "code",
   "execution_count": 22,
   "id": "incorporate-cycling",
   "metadata": {
    "execution": {
     "iopub.execute_input": "2021-04-06T19:45:49.901145Z",
     "iopub.status.busy": "2021-04-06T19:45:49.900301Z",
     "iopub.status.idle": "2021-04-06T19:45:49.905621Z",
     "shell.execute_reply": "2021-04-06T19:45:49.906725Z"
    },
    "papermill": {
     "duration": 0.06821,
     "end_time": "2021-04-06T19:45:49.906929",
     "exception": false,
     "start_time": "2021-04-06T19:45:49.838719",
     "status": "completed"
    },
    "tags": []
   },
   "outputs": [],
   "source": [
    "# submission = generate_submission(model,X_submission,df_submission,model_name,False)"
   ]
  },
  {
   "cell_type": "markdown",
   "id": "collective-oxford",
   "metadata": {
    "papermill": {
     "duration": 0.082232,
     "end_time": "2021-04-06T19:45:50.081633",
     "exception": false,
     "start_time": "2021-04-06T19:45:49.999401",
     "status": "completed"
    },
    "tags": []
   },
   "source": [
    "## 2- BiLSTM with a Dense Layer and Dropout"
   ]
  },
  {
   "cell_type": "code",
   "execution_count": 23,
   "id": "direct-aurora",
   "metadata": {
    "execution": {
     "iopub.execute_input": "2021-04-06T19:45:50.259120Z",
     "iopub.status.busy": "2021-04-06T19:45:50.258265Z",
     "iopub.status.idle": "2021-04-06T19:45:50.260507Z",
     "shell.execute_reply": "2021-04-06T19:45:50.259813Z"
    },
    "papermill": {
     "duration": 0.099333,
     "end_time": "2021-04-06T19:45:50.260661",
     "exception": false,
     "start_time": "2021-04-06T19:45:50.161328",
     "status": "completed"
    },
    "tags": []
   },
   "outputs": [],
   "source": [
    "# def simple_biLSTM_model_multiclass(embedding_layer):\n",
    "#     simple_biLSTM_model_multiclass = Sequential()\n",
    "#     simple_biLSTM_model_multiclass.add(embedding_layer)\n",
    "#     simple_biLSTM_model_multiclass.add(Bidirectional(LSTM(128)))\n",
    "#     simple_biLSTM_model_multiclass.add(Dense(128, activation='relu'))\n",
    "#     simple_biLSTM_model_multiclass.add(Dropout(0.5))\n",
    "#     simple_biLSTM_model_multiclass.add(Dense(5, activation='softmax'))\n",
    "#     simple_biLSTM_model_multiclass.compile(loss='categorical_crossentropy', \n",
    "# #                                          optimizer='adam', \n",
    "#                                            optimizer=Adam(lr=1e-3),\n",
    "#                                            metrics=['accuracy'])\n",
    "    \n",
    "#     simple_biLSTM_model_multiclass.summary()\n",
    "#     return simple_biLSTM_model_multiclass,\"simple_biLSTM_model_multiclass\"\n",
    "\n",
    "# model, model_name = simple_biLSTM_model_multiclass(embedding_layer)"
   ]
  },
  {
   "cell_type": "code",
   "execution_count": 24,
   "id": "improving-remedy",
   "metadata": {
    "execution": {
     "iopub.execute_input": "2021-04-06T19:45:50.434941Z",
     "iopub.status.busy": "2021-04-06T19:45:50.433268Z",
     "iopub.status.idle": "2021-04-06T19:45:50.435788Z",
     "shell.execute_reply": "2021-04-06T19:45:50.434002Z"
    },
    "papermill": {
     "duration": 0.095199,
     "end_time": "2021-04-06T19:45:50.435956",
     "exception": false,
     "start_time": "2021-04-06T19:45:50.340757",
     "status": "completed"
    },
    "tags": []
   },
   "outputs": [],
   "source": [
    "# model = train_deep_model(model,\n",
    "#                         X_train,y_train, \n",
    "#                         X_val, y_val,\n",
    "#                         BATCH_SIZE = 128, \n",
    "#                         EPOCHS = 11, \n",
    "#                         plot=True,\n",
    "#                         callback=True,\n",
    "#                         model_name= model_name )"
   ]
  },
  {
   "cell_type": "code",
   "execution_count": 25,
   "id": "sharing-christianity",
   "metadata": {
    "execution": {
     "iopub.execute_input": "2021-04-06T19:45:50.640067Z",
     "iopub.status.busy": "2021-04-06T19:45:50.639201Z",
     "iopub.status.idle": "2021-04-06T19:45:50.640925Z",
     "shell.execute_reply": "2021-04-06T19:45:50.641583Z"
    },
    "papermill": {
     "duration": 0.110692,
     "end_time": "2021-04-06T19:45:50.641769",
     "exception": false,
     "start_time": "2021-04-06T19:45:50.531077",
     "status": "completed"
    },
    "tags": []
   },
   "outputs": [],
   "source": [
    "# generate_pred(model,X_test,y_test)"
   ]
  },
  {
   "cell_type": "code",
   "execution_count": 26,
   "id": "impressed-white",
   "metadata": {
    "execution": {
     "iopub.execute_input": "2021-04-06T19:45:50.944597Z",
     "iopub.status.busy": "2021-04-06T19:45:50.943207Z",
     "iopub.status.idle": "2021-04-06T19:45:50.954358Z",
     "shell.execute_reply": "2021-04-06T19:45:50.943883Z"
    },
    "papermill": {
     "duration": 0.188157,
     "end_time": "2021-04-06T19:45:50.954517",
     "exception": false,
     "start_time": "2021-04-06T19:45:50.766360",
     "status": "completed"
    },
    "tags": []
   },
   "outputs": [],
   "source": [
    "# submission = generate_submission(model,X_submission,df_submission,model_name,False)"
   ]
  },
  {
   "cell_type": "markdown",
   "id": "rough-block",
   "metadata": {
    "papermill": {
     "duration": 0.10834,
     "end_time": "2021-04-06T19:45:51.249921",
     "exception": false,
     "start_time": "2021-04-06T19:45:51.141581",
     "status": "completed"
    },
    "tags": []
   },
   "source": [
    "## 3- Multiple layer lstm\n",
    " "
   ]
  },
  {
   "cell_type": "code",
   "execution_count": 27,
   "id": "sharing-people",
   "metadata": {
    "execution": {
     "iopub.execute_input": "2021-04-06T19:45:51.464622Z",
     "iopub.status.busy": "2021-04-06T19:45:51.463769Z",
     "iopub.status.idle": "2021-04-06T19:45:51.465895Z",
     "shell.execute_reply": "2021-04-06T19:45:51.465290Z"
    },
    "papermill": {
     "duration": 0.100465,
     "end_time": "2021-04-06T19:45:51.466027",
     "exception": false,
     "start_time": "2021-04-06T19:45:51.365562",
     "status": "completed"
    },
    "tags": []
   },
   "outputs": [],
   "source": [
    "# def multi_layer_lstm_multiclass(embedding_layer):\n",
    "#     multi_layer_lstm_multiclass = Sequential()\n",
    "#     multi_layer_lstm_multiclass.add(embedding_layer)\n",
    "#     multi_layer_lstm_multiclass.add(Bidirectional(LSTM(128, return_sequences=True)))\n",
    "#     keras.layers.Dropout(0.5)\n",
    "#     multi_layer_lstm_multiclass.add(GlobalMaxPool1D())\n",
    "#     keras.layers.Dropout(0.5)\n",
    "#     multi_layer_lstm_multiclass.add(Dense(5, activation='softmax'))\n",
    "#     multi_layer_lstm_multiclass.compile(loss='categorical_crossentropy', \n",
    "# #                                          optimizer='adam', \n",
    "#                                            optimizer=Adam(lr=1e-3),\n",
    "#                                            metrics=['accuracy'])\n",
    "    \n",
    "#     multi_layer_lstm_multiclass.summary()\n",
    "#     return multi_layer_lstm_multiclass,\"multi_layer_lstm_multiclass\"\n",
    "\n",
    "# model, model_name = multi_layer_lstm_multiclass(embedding_layer)"
   ]
  },
  {
   "cell_type": "code",
   "execution_count": 28,
   "id": "anonymous-communications",
   "metadata": {
    "execution": {
     "iopub.execute_input": "2021-04-06T19:45:51.731527Z",
     "iopub.status.busy": "2021-04-06T19:45:51.730763Z",
     "iopub.status.idle": "2021-04-06T19:45:51.732463Z",
     "shell.execute_reply": "2021-04-06T19:45:51.731998Z"
    },
    "papermill": {
     "duration": 0.188532,
     "end_time": "2021-04-06T19:45:51.732577",
     "exception": false,
     "start_time": "2021-04-06T19:45:51.544045",
     "status": "completed"
    },
    "tags": []
   },
   "outputs": [],
   "source": [
    "# model = train_deep_model(model,\n",
    "#                         X_train,y_train, \n",
    "#                         X_val, y_val,\n",
    "#                         BATCH_SIZE = 128, \n",
    "#                         EPOCHS = 13, \n",
    "#                         plot=True,\n",
    "#                         callback=True,\n",
    "#                         model_name= model_name )"
   ]
  },
  {
   "cell_type": "code",
   "execution_count": 29,
   "id": "weekly-darwin",
   "metadata": {
    "execution": {
     "iopub.execute_input": "2021-04-06T19:45:51.869222Z",
     "iopub.status.busy": "2021-04-06T19:45:51.868468Z",
     "iopub.status.idle": "2021-04-06T19:45:51.870451Z",
     "shell.execute_reply": "2021-04-06T19:45:51.869871Z"
    },
    "papermill": {
     "duration": 0.083544,
     "end_time": "2021-04-06T19:45:51.870584",
     "exception": false,
     "start_time": "2021-04-06T19:45:51.787040",
     "status": "completed"
    },
    "tags": []
   },
   "outputs": [],
   "source": [
    "# generate_pred(model,X_test,y_test)"
   ]
  },
  {
   "cell_type": "code",
   "execution_count": 30,
   "id": "worth-nirvana",
   "metadata": {
    "execution": {
     "iopub.execute_input": "2021-04-06T19:45:52.031913Z",
     "iopub.status.busy": "2021-04-06T19:45:52.031138Z",
     "iopub.status.idle": "2021-04-06T19:45:52.033117Z",
     "shell.execute_reply": "2021-04-06T19:45:52.032553Z"
    },
    "papermill": {
     "duration": 0.08625,
     "end_time": "2021-04-06T19:45:52.033269",
     "exception": false,
     "start_time": "2021-04-06T19:45:51.947019",
     "status": "completed"
    },
    "tags": []
   },
   "outputs": [],
   "source": [
    "# submission = generate_submission(model,X_submission,df_submission,model_name,False)"
   ]
  },
  {
   "cell_type": "markdown",
   "id": "powerful-offer",
   "metadata": {
    "papermill": {
     "duration": 0.051627,
     "end_time": "2021-04-06T19:45:52.174369",
     "exception": false,
     "start_time": "2021-04-06T19:45:52.122742",
     "status": "completed"
    },
    "tags": []
   },
   "source": [
    "## 4- Convolutional Neural network\n"
   ]
  },
  {
   "cell_type": "code",
   "execution_count": 31,
   "id": "yellow-indonesian",
   "metadata": {
    "execution": {
     "iopub.execute_input": "2021-04-06T19:45:52.280473Z",
     "iopub.status.busy": "2021-04-06T19:45:52.279729Z",
     "iopub.status.idle": "2021-04-06T19:45:52.282271Z",
     "shell.execute_reply": "2021-04-06T19:45:52.282708Z"
    },
    "papermill": {
     "duration": 0.057711,
     "end_time": "2021-04-06T19:45:52.282834",
     "exception": false,
     "start_time": "2021-04-06T19:45:52.225123",
     "status": "completed"
    },
    "tags": []
   },
   "outputs": [],
   "source": [
    "# def simple_CNN_multiclass(embedding_layer):\n",
    "#     simple_CNN_multiclass = Sequential()\n",
    "#     simple_CNN_multiclass.add(embedding_layer)\n",
    "#     simple_CNN_multiclass.add(Conv1D(filters=100, kernel_size=2, padding='valid', activation='relu', strides=1))\n",
    "#     simple_CNN_multiclass.add(GlobalMaxPool1D())\n",
    "#     simple_CNN_multiclass.add(Dense(256, activation='relu'))\n",
    "#     simple_CNN_multiclass.add(Dense(5, activation='softmax'))\n",
    "#     simple_CNN_multiclass.compile(loss='categorical_crossentropy', \n",
    "# #                                          optimizer='adam', \n",
    "#                                            optimizer=Adam(lr=1e-3),\n",
    "#                                            metrics=['accuracy'])\n",
    "    \n",
    "#     simple_CNN_multiclass.summary()\n",
    "#     return simple_CNN_multiclass,\"simple_CNN_multiclass\"\n",
    "\n",
    "# model, model_name = simple_CNN_multiclass(embedding_layer)"
   ]
  },
  {
   "cell_type": "code",
   "execution_count": 32,
   "id": "northern-greece",
   "metadata": {
    "execution": {
     "iopub.execute_input": "2021-04-06T19:45:52.388003Z",
     "iopub.status.busy": "2021-04-06T19:45:52.387381Z",
     "iopub.status.idle": "2021-04-06T19:45:52.390291Z",
     "shell.execute_reply": "2021-04-06T19:45:52.389870Z"
    },
    "papermill": {
     "duration": 0.056748,
     "end_time": "2021-04-06T19:45:52.390418",
     "exception": false,
     "start_time": "2021-04-06T19:45:52.333670",
     "status": "completed"
    },
    "tags": []
   },
   "outputs": [],
   "source": [
    "# model = train_deep_model(model,\n",
    "#                         X_train,y_train, \n",
    "#                         X_val, y_val,\n",
    "#                         BATCH_SIZE = 128, \n",
    "#                         EPOCHS = 13, \n",
    "#                         plot=True,\n",
    "#                         callback=True,\n",
    "#                         model_name= model_name )"
   ]
  },
  {
   "cell_type": "code",
   "execution_count": 33,
   "id": "accredited-devil",
   "metadata": {
    "execution": {
     "iopub.execute_input": "2021-04-06T19:45:52.496293Z",
     "iopub.status.busy": "2021-04-06T19:45:52.495015Z",
     "iopub.status.idle": "2021-04-06T19:45:52.497883Z",
     "shell.execute_reply": "2021-04-06T19:45:52.497488Z"
    },
    "papermill": {
     "duration": 0.056891,
     "end_time": "2021-04-06T19:45:52.497986",
     "exception": false,
     "start_time": "2021-04-06T19:45:52.441095",
     "status": "completed"
    },
    "tags": []
   },
   "outputs": [],
   "source": [
    "# generate_pred(model,X_test,y_test)"
   ]
  },
  {
   "cell_type": "code",
   "execution_count": 34,
   "id": "induced-convergence",
   "metadata": {
    "execution": {
     "iopub.execute_input": "2021-04-06T19:45:52.603003Z",
     "iopub.status.busy": "2021-04-06T19:45:52.602506Z",
     "iopub.status.idle": "2021-04-06T19:45:52.606141Z",
     "shell.execute_reply": "2021-04-06T19:45:52.605641Z"
    },
    "papermill": {
     "duration": 0.057429,
     "end_time": "2021-04-06T19:45:52.606241",
     "exception": false,
     "start_time": "2021-04-06T19:45:52.548812",
     "status": "completed"
    },
    "tags": []
   },
   "outputs": [],
   "source": [
    "# submission = generate_submission(model,X_submission,df_submission,model_name,False)"
   ]
  },
  {
   "cell_type": "markdown",
   "id": "phantom-consultancy",
   "metadata": {
    "papermill": {
     "duration": 0.051134,
     "end_time": "2021-04-06T19:45:52.708598",
     "exception": false,
     "start_time": "2021-04-06T19:45:52.657464",
     "status": "completed"
    },
    "tags": []
   },
   "source": [
    "## 5- ELABORATED CNN WITH PARALLEL LAYERS AND DROPOUT\n",
    " "
   ]
  },
  {
   "cell_type": "code",
   "execution_count": 35,
   "id": "interpreted-czech",
   "metadata": {
    "execution": {
     "iopub.execute_input": "2021-04-06T19:45:52.816607Z",
     "iopub.status.busy": "2021-04-06T19:45:52.815408Z",
     "iopub.status.idle": "2021-04-06T19:45:52.818315Z",
     "shell.execute_reply": "2021-04-06T19:45:52.817901Z"
    },
    "papermill": {
     "duration": 0.058512,
     "end_time": "2021-04-06T19:45:52.818420",
     "exception": false,
     "start_time": "2021-04-06T19:45:52.759908",
     "status": "completed"
    },
    "tags": []
   },
   "outputs": [],
   "source": [
    "# def parallelized_CNN_multiclass(embedding_layer):\n",
    "#     input_ = Input(shape=(MAX_SEQUENCE_LENGTH,))\n",
    "#     tweet_encoder = embedding_layer(input_)\n",
    "#     bigram_branch = Conv1D(filters=100, kernel_size=2, padding='valid', activation='relu', strides=1)(tweet_encoder)\n",
    "#     bigram_branch = GlobalMaxPool1D()(bigram_branch)\n",
    "#     trigram_branch = Conv1D(filters=100, kernel_size=3, padding='valid', activation='relu', strides=1)(tweet_encoder)\n",
    "#     trigram_branch = GlobalMaxPool1D()(trigram_branch)\n",
    "#     fourgram_branch = Conv1D(filters=100, kernel_size=4, padding='valid', activation='relu', strides=1)(tweet_encoder)\n",
    "#     fourgram_branch = GlobalMaxPool1D()(fourgram_branch)\n",
    "#     fifthgram_branch = Conv1D(filters=100, kernel_size=5, padding='valid', activation='relu', strides=1)(tweet_encoder)\n",
    "#     fifthgram_branch = GlobalMaxPool1D()(fifthgram_branch)\n",
    "#     merged = concatenate([bigram_branch, trigram_branch,fourgram_branch,fifthgram_branch], axis=1)\n",
    "#     merged = Dropout(0.5)(merged)\n",
    "#     merged = Dense(5)(merged)\n",
    "#     output = Activation('softmax')(merged)\n",
    "#     parallelized_CNN_multiclass = Model(inputs=[input_], outputs=[output])\n",
    "\n",
    "#     parallelized_CNN_multiclass.compile(loss='categorical_crossentropy', \n",
    "# #                                          optimizer='adam', \n",
    "#                                            optimizer=Adam(lr=1e-3),\n",
    "#                                            metrics=['accuracy'])\n",
    "    \n",
    "#     parallelized_CNN_multiclass.summary()\n",
    "#     return parallelized_CNN_multiclass,\"parallelized_CNN_multiclass\"\n",
    "\n",
    "# model, model_name = parallelized_CNN_multiclass(embedding_layer)"
   ]
  },
  {
   "cell_type": "code",
   "execution_count": 36,
   "id": "federal-aberdeen",
   "metadata": {
    "execution": {
     "iopub.execute_input": "2021-04-06T19:45:52.924402Z",
     "iopub.status.busy": "2021-04-06T19:45:52.923870Z",
     "iopub.status.idle": "2021-04-06T19:45:52.927314Z",
     "shell.execute_reply": "2021-04-06T19:45:52.927789Z"
    },
    "papermill": {
     "duration": 0.058271,
     "end_time": "2021-04-06T19:45:52.927926",
     "exception": false,
     "start_time": "2021-04-06T19:45:52.869655",
     "status": "completed"
    },
    "tags": []
   },
   "outputs": [],
   "source": [
    "# model = train_deep_model(model,\n",
    "#                         X_train,y_train, \n",
    "#                         X_val, y_val,\n",
    "#                         BATCH_SIZE = 128, \n",
    "#                         EPOCHS = 13, \n",
    "#                         plot=True,\n",
    "#                         callback=True,\n",
    "#                         model_name= model_name )"
   ]
  },
  {
   "cell_type": "code",
   "execution_count": 37,
   "id": "dated-factor",
   "metadata": {
    "execution": {
     "iopub.execute_input": "2021-04-06T19:45:53.034416Z",
     "iopub.status.busy": "2021-04-06T19:45:53.033788Z",
     "iopub.status.idle": "2021-04-06T19:45:53.036741Z",
     "shell.execute_reply": "2021-04-06T19:45:53.036278Z"
    },
    "papermill": {
     "duration": 0.057645,
     "end_time": "2021-04-06T19:45:53.036846",
     "exception": false,
     "start_time": "2021-04-06T19:45:52.979201",
     "status": "completed"
    },
    "tags": []
   },
   "outputs": [],
   "source": [
    "# generate_pred(model,X_test,y_test)"
   ]
  },
  {
   "cell_type": "code",
   "execution_count": 38,
   "id": "boxed-federation",
   "metadata": {
    "execution": {
     "iopub.execute_input": "2021-04-06T19:45:53.146317Z",
     "iopub.status.busy": "2021-04-06T19:45:53.145456Z",
     "iopub.status.idle": "2021-04-06T19:45:53.148324Z",
     "shell.execute_reply": "2021-04-06T19:45:53.147902Z"
    },
    "papermill": {
     "duration": 0.05932,
     "end_time": "2021-04-06T19:45:53.148435",
     "exception": false,
     "start_time": "2021-04-06T19:45:53.089115",
     "status": "completed"
    },
    "tags": []
   },
   "outputs": [],
   "source": [
    "# submission = generate_submission(model,X_submission,df_submission,model_name,False)\n",
    "# submission"
   ]
  },
  {
   "cell_type": "markdown",
   "id": "derived-strength",
   "metadata": {
    "papermill": {
     "duration": 0.052368,
     "end_time": "2021-04-06T19:45:53.253315",
     "exception": false,
     "start_time": "2021-04-06T19:45:53.200947",
     "status": "completed"
    },
    "tags": []
   },
   "source": [
    "## 6- Hybrid model: CNN-LSTM"
   ]
  },
  {
   "cell_type": "code",
   "execution_count": 39,
   "id": "alternate-purpose",
   "metadata": {
    "execution": {
     "iopub.execute_input": "2021-04-06T19:45:53.361558Z",
     "iopub.status.busy": "2021-04-06T19:45:53.360844Z",
     "iopub.status.idle": "2021-04-06T19:45:53.363715Z",
     "shell.execute_reply": "2021-04-06T19:45:53.363319Z"
    },
    "papermill": {
     "duration": 0.058521,
     "end_time": "2021-04-06T19:45:53.363831",
     "exception": false,
     "start_time": "2021-04-06T19:45:53.305310",
     "status": "completed"
    },
    "tags": []
   },
   "outputs": [],
   "source": [
    "# def hybrid_LSTM_CNN_multiclass(embedding_layer):\n",
    "#     sequence_input = Input(shape=(MAX_SEQUENCE_LENGTH,))\n",
    "#     embedded_sequences = embedding_layer(sequence_input)\n",
    "#     drop_out_1 = Dropout(0.5, name='drop_out_1')(embedded_sequences)\n",
    "#     biLSTM_1 = Bidirectional(LSTM(60, return_sequences=True))(embedded_sequences)\n",
    "#     conv_1 = Conv1D(128, 2, activation='relu', name='conv_1')(biLSTM_1)\n",
    "#     gmp_1 = GlobalMaxPool1D(name='gmp_1')(conv_1)\n",
    "#     conv_2 = Conv1D(128, 3, activation='relu', name='conv_2')(biLSTM_1)\n",
    "#     gmp_2 = GlobalMaxPool1D(name='gmp_2')(conv_2)\n",
    "#     conv_3 = Conv1D(128, 4, activation='relu', name='conv_3')(biLSTM_1)\n",
    "#     gmp_3 = GlobalMaxPool1D(name='gmp_3')(conv_3)\n",
    "\n",
    "#     concat = concatenate([gmp_1,gmp_2,gmp_3])\n",
    "#     # concat = concatenate([gmp_1,gmp_2])\n",
    "\n",
    "#     drop_out_2 = Dropout(0.5, name='drop_out_2')(concat)\n",
    "#     mp_dense = Dense(64, activation='relu', name='mp_dense')(drop_out_2)\n",
    "#     drop_out_3 = Dropout(0.5, name='drop_out_2')(mp_dense)\n",
    "    \n",
    "#     preds = Dense(5, activation='softmax', name='preds')(mp_dense)\n",
    "#     hybrid_LSTM_CNN_multiclass = Model(sequence_input, preds)\n",
    "\n",
    "#     hybrid_LSTM_CNN_multiclass.compile(loss='categorical_crossentropy', \n",
    "# #                                          optimizer='adam', \n",
    "#                                            optimizer=Adam(lr=1e-3),\n",
    "#                                            metrics=['accuracy'])\n",
    "    \n",
    "#     hybrid_LSTM_CNN_multiclass.summary()\n",
    "#     return hybrid_LSTM_CNN_multiclass,\"hybrid_LSTM_CNN_multiclass\"\n",
    "\n",
    "# model, model_name = hybrid_LSTM_CNN_multiclass(embedding_layer)"
   ]
  },
  {
   "cell_type": "code",
   "execution_count": 40,
   "id": "distant-isaac",
   "metadata": {
    "execution": {
     "iopub.execute_input": "2021-04-06T19:45:53.471705Z",
     "iopub.status.busy": "2021-04-06T19:45:53.471020Z",
     "iopub.status.idle": "2021-04-06T19:45:53.473485Z",
     "shell.execute_reply": "2021-04-06T19:45:53.473988Z"
    },
    "papermill": {
     "duration": 0.058116,
     "end_time": "2021-04-06T19:45:53.474114",
     "exception": false,
     "start_time": "2021-04-06T19:45:53.415998",
     "status": "completed"
    },
    "tags": []
   },
   "outputs": [],
   "source": [
    "# model = train_deep_model(model,\n",
    "#                         X_train,y_train, \n",
    "#                         X_val, y_val,\n",
    "#                         BATCH_SIZE = 128, \n",
    "#                         EPOCHS = 13, \n",
    "#                         plot=True,\n",
    "#                         callback=True,\n",
    "#                         model_name= model_name )"
   ]
  },
  {
   "cell_type": "code",
   "execution_count": 41,
   "id": "asian-memory",
   "metadata": {
    "execution": {
     "iopub.execute_input": "2021-04-06T19:45:53.582377Z",
     "iopub.status.busy": "2021-04-06T19:45:53.581567Z",
     "iopub.status.idle": "2021-04-06T19:45:53.671161Z",
     "shell.execute_reply": "2021-04-06T19:45:53.671579Z"
    },
    "papermill": {
     "duration": 0.145712,
     "end_time": "2021-04-06T19:45:53.671737",
     "exception": false,
     "start_time": "2021-04-06T19:45:53.526025",
     "status": "completed"
    },
    "tags": []
   },
   "outputs": [],
   "source": [
    "# generate_pred(model,X_test,y_test)"
   ]
  },
  {
   "cell_type": "code",
   "execution_count": 42,
   "id": "hawaiian-carroll",
   "metadata": {
    "execution": {
     "iopub.execute_input": "2021-04-06T19:45:53.781584Z",
     "iopub.status.busy": "2021-04-06T19:45:53.780825Z",
     "iopub.status.idle": "2021-04-06T19:45:53.783753Z",
     "shell.execute_reply": "2021-04-06T19:45:53.783353Z"
    },
    "papermill": {
     "duration": 0.059266,
     "end_time": "2021-04-06T19:45:53.783864",
     "exception": false,
     "start_time": "2021-04-06T19:45:53.724598",
     "status": "completed"
    },
    "tags": []
   },
   "outputs": [],
   "source": [
    "# submission = generate_submission(model,X_submission,df_submission,model_name,False)"
   ]
  },
  {
   "cell_type": "markdown",
   "id": "worst-virus",
   "metadata": {
    "papermill": {
     "duration": 0.052259,
     "end_time": "2021-04-06T19:45:53.888156",
     "exception": false,
     "start_time": "2021-04-06T19:45:53.835897",
     "status": "completed"
    },
    "tags": []
   },
   "source": [
    "# TRANSFORMERS"
   ]
  },
  {
   "cell_type": "code",
   "execution_count": 43,
   "id": "furnished-residence",
   "metadata": {
    "execution": {
     "iopub.execute_input": "2021-04-06T19:45:53.997380Z",
     "iopub.status.busy": "2021-04-06T19:45:53.996873Z",
     "iopub.status.idle": "2021-04-06T19:46:09.752349Z",
     "shell.execute_reply": "2021-04-06T19:46:09.751804Z"
    },
    "papermill": {
     "duration": 15.811475,
     "end_time": "2021-04-06T19:46:09.752491",
     "exception": false,
     "start_time": "2021-04-06T19:45:53.941016",
     "status": "completed"
    },
    "tags": []
   },
   "outputs": [],
   "source": [
    "module_url = 'https://tfhub.dev/tensorflow/bert_en_uncased_L-12_H-768_A-12/2'\n",
    "bert_layer = hub.KerasLayer(module_url, trainable=True)"
   ]
  },
  {
   "cell_type": "code",
   "execution_count": 44,
   "id": "offensive-venezuela",
   "metadata": {
    "execution": {
     "iopub.execute_input": "2021-04-06T19:46:09.863763Z",
     "iopub.status.busy": "2021-04-06T19:46:09.863260Z",
     "iopub.status.idle": "2021-04-06T19:46:09.868098Z",
     "shell.execute_reply": "2021-04-06T19:46:09.867689Z"
    },
    "papermill": {
     "duration": 0.062122,
     "end_time": "2021-04-06T19:46:09.868206",
     "exception": false,
     "start_time": "2021-04-06T19:46:09.806084",
     "status": "completed"
    },
    "tags": []
   },
   "outputs": [],
   "source": [
    "vocab_file = bert_layer.resolved_object.vocab_file.asset_path.numpy()\n",
    "do_lower_case = bert_layer.resolved_object.do_lower_case.numpy()"
   ]
  },
  {
   "cell_type": "code",
   "execution_count": 45,
   "id": "indoor-picnic",
   "metadata": {
    "execution": {
     "iopub.execute_input": "2021-04-06T19:46:09.983984Z",
     "iopub.status.busy": "2021-04-06T19:46:09.983470Z",
     "iopub.status.idle": "2021-04-06T19:46:10.099839Z",
     "shell.execute_reply": "2021-04-06T19:46:10.099155Z"
    },
    "papermill": {
     "duration": 0.179261,
     "end_time": "2021-04-06T19:46:10.099994",
     "exception": false,
     "start_time": "2021-04-06T19:46:09.920733",
     "status": "completed"
    },
    "tags": []
   },
   "outputs": [],
   "source": [
    "tokenizer = tokenization.FullTokenizer(vocab_file, do_lower_case)\n",
    "MAX_SEQUENCE_LENGTH = 150"
   ]
  },
  {
   "cell_type": "code",
   "execution_count": 46,
   "id": "liquid-triangle",
   "metadata": {
    "execution": {
     "iopub.execute_input": "2021-04-06T19:46:10.224093Z",
     "iopub.status.busy": "2021-04-06T19:46:10.223496Z",
     "iopub.status.idle": "2021-04-06T19:46:10.226321Z",
     "shell.execute_reply": "2021-04-06T19:46:10.226740Z"
    },
    "papermill": {
     "duration": 0.067887,
     "end_time": "2021-04-06T19:46:10.226876",
     "exception": false,
     "start_time": "2021-04-06T19:46:10.158989",
     "status": "completed"
    },
    "tags": []
   },
   "outputs": [],
   "source": [
    "def build_model(bert_layer, max_len=MAX_SEQUENCE_LENGTH):\n",
    "    input_word_ids = tf.keras.Input(shape=(max_len,), dtype=tf.int32, name=\"input_word_ids\")\n",
    "    input_mask = tf.keras.Input(shape=(max_len,), dtype=tf.int32, name=\"input_mask\")\n",
    "    segment_ids = tf.keras.Input(shape=(max_len,), dtype=tf.int32, name=\"segment_ids\")\n",
    "    pooled_output, sequence_output = bert_layer([input_word_ids, input_mask, segment_ids])\n",
    "    clf_output = sequence_output[:, 0, :]\n",
    "    net = tf.keras.layers.Dense(64, activation='relu')(clf_output)\n",
    "    net = tf.keras.layers.Dropout(0.5)(net)\n",
    "    out = tf.keras.layers.Dense(5, activation='softmax')(net)\n",
    "    model = tf.keras.models.Model(inputs=[input_word_ids, input_mask, segment_ids], outputs=out)\n",
    "    model.compile(tf.keras.optimizers.Adam(lr=1e-5), \n",
    "                  loss='categorical_crossentropy', \n",
    "                  metrics=['accuracy'])\n",
    "    model.summary()\n",
    "    return model, \"bert_model\""
   ]
  },
  {
   "cell_type": "code",
   "execution_count": 47,
   "id": "oriental-arbor",
   "metadata": {
    "execution": {
     "iopub.execute_input": "2021-04-06T19:46:10.365979Z",
     "iopub.status.busy": "2021-04-06T19:46:10.355826Z",
     "iopub.status.idle": "2021-04-06T19:47:08.872305Z",
     "shell.execute_reply": "2021-04-06T19:47:08.871284Z"
    },
    "papermill": {
     "duration": 58.58887,
     "end_time": "2021-04-06T19:47:08.872449",
     "exception": false,
     "start_time": "2021-04-06T19:46:10.283579",
     "status": "completed"
    },
    "tags": []
   },
   "outputs": [],
   "source": [
    "train_input = bert_encode(X_train_bert, tokenizer, max_len=MAX_SEQUENCE_LENGTH)\n",
    "val_input = bert_encode(X_val_bert, tokenizer, max_len=MAX_SEQUENCE_LENGTH)\n",
    "test_input = bert_encode(X_test_bert, tokenizer, max_len=MAX_SEQUENCE_LENGTH)\n",
    "sub_input = bert_encode(df_submission.review.values, tokenizer, max_len=MAX_SEQUENCE_LENGTH)"
   ]
  },
  {
   "cell_type": "code",
   "execution_count": 48,
   "id": "fourth-barcelona",
   "metadata": {
    "execution": {
     "iopub.execute_input": "2021-04-06T19:47:08.987474Z",
     "iopub.status.busy": "2021-04-06T19:47:08.983298Z",
     "iopub.status.idle": "2021-04-06T19:47:09.664721Z",
     "shell.execute_reply": "2021-04-06T19:47:09.665534Z"
    },
    "papermill": {
     "duration": 0.739703,
     "end_time": "2021-04-06T19:47:09.665693",
     "exception": false,
     "start_time": "2021-04-06T19:47:08.925990",
     "status": "completed"
    },
    "tags": []
   },
   "outputs": [
    {
     "name": "stdout",
     "output_type": "stream",
     "text": [
      "Model: \"model\"\n",
      "__________________________________________________________________________________________________\n",
      "Layer (type)                    Output Shape         Param #     Connected to                     \n",
      "==================================================================================================\n",
      "input_word_ids (InputLayer)     [(None, 150)]        0                                            \n",
      "__________________________________________________________________________________________________\n",
      "input_mask (InputLayer)         [(None, 150)]        0                                            \n",
      "__________________________________________________________________________________________________\n",
      "segment_ids (InputLayer)        [(None, 150)]        0                                            \n",
      "__________________________________________________________________________________________________\n",
      "keras_layer (KerasLayer)        [(None, 768), (None, 109482241   input_word_ids[0][0]             \n",
      "                                                                 input_mask[0][0]                 \n",
      "                                                                 segment_ids[0][0]                \n",
      "__________________________________________________________________________________________________\n",
      "tf.__operators__.getitem (Slici (None, 768)          0           keras_layer[0][1]                \n",
      "__________________________________________________________________________________________________\n",
      "dense (Dense)                   (None, 64)           49216       tf.__operators__.getitem[0][0]   \n",
      "__________________________________________________________________________________________________\n",
      "dropout (Dropout)               (None, 64)           0           dense[0][0]                      \n",
      "__________________________________________________________________________________________________\n",
      "dense_1 (Dense)                 (None, 5)            325         dropout[0][0]                    \n",
      "==================================================================================================\n",
      "Total params: 109,531,782\n",
      "Trainable params: 109,531,781\n",
      "Non-trainable params: 1\n",
      "__________________________________________________________________________________________________\n"
     ]
    }
   ],
   "source": [
    "model,model_name = build_model(bert_layer, max_len=MAX_SEQUENCE_LENGTH)"
   ]
  },
  {
   "cell_type": "code",
   "execution_count": 49,
   "id": "stupid-scholar",
   "metadata": {
    "execution": {
     "iopub.execute_input": "2021-04-06T19:47:09.778081Z",
     "iopub.status.busy": "2021-04-06T19:47:09.777222Z",
     "iopub.status.idle": "2021-04-06T21:28:01.000773Z",
     "shell.execute_reply": "2021-04-06T21:28:00.998369Z"
    },
    "papermill": {
     "duration": 6051.281111,
     "end_time": "2021-04-06T21:28:01.000953",
     "exception": false,
     "start_time": "2021-04-06T19:47:09.719842",
     "status": "completed"
    },
    "tags": []
   },
   "outputs": [
    {
     "name": "stdout",
     "output_type": "stream",
     "text": [
      "Epoch 1/3\n",
      "3642/3642 [==============================] - 2022s 551ms/step - loss: 1.0397 - accuracy: 0.5846 - val_loss: 0.7621 - val_accuracy: 0.6852\n",
      "\n",
      "Epoch 00001: val_accuracy improved from -inf to 0.68525, saving model to best_bert_model.h5\n",
      "Epoch 2/3\n",
      "3642/3642 [==============================] - 2009s 552ms/step - loss: 0.8045 - accuracy: 0.6827 - val_loss: 0.7226 - val_accuracy: 0.7032\n",
      "\n",
      "Epoch 00002: val_accuracy improved from 0.68525 to 0.70323, saving model to best_bert_model.h5\n",
      "Epoch 3/3\n",
      "3642/3642 [==============================] - 2010s 552ms/step - loss: 0.7160 - accuracy: 0.7213 - val_loss: 0.7656 - val_accuracy: 0.6846\n",
      "\n",
      "Epoch 00003: val_accuracy did not improve from 0.70323\n"
     ]
    },
    {
     "data": {
      "image/png": "[encoded data removed]",
      "text/plain": [
       "<Figure size 936x288 with 2 Axes>"
      ]
     },
     "metadata": {
      "needs_background": "light"
     },
     "output_type": "display_data"
    }
   ],
   "source": [
    "model = train_bert_model(model,\n",
    "                        train_input,y_train_bert, \n",
    "                        val_input,y_val_bert,\n",
    "                        BATCH_SIZE = 30, \n",
    "                        EPOCHS = 3, \n",
    "                        plot=True,\n",
    "                        callback=True,\n",
    "                        model_name= model_name)"
   ]
  },
  {
   "cell_type": "code",
   "execution_count": 52,
   "id": "conceptual-daily",
   "metadata": {
    "execution": {
     "iopub.execute_input": "2021-04-06T21:37:59.920262Z",
     "iopub.status.busy": "2021-04-06T21:37:59.919514Z",
     "iopub.status.idle": "2021-04-06T21:38:20.384380Z",
     "shell.execute_reply": "2021-04-06T21:38:20.383888Z"
    },
    "papermill": {
     "duration": 23.362384,
     "end_time": "2021-04-06T21:38:20.384516",
     "exception": false,
     "start_time": "2021-04-06T21:37:57.022132",
     "status": "completed"
    },
    "tags": []
   },
   "outputs": [],
   "source": [
    "# model = tf.keras.models.load_model('../input/testmodel/model.h5',custom_objects={'KerasLayer':hub.KerasLayer})"
   ]
  },
  {
   "cell_type": "code",
   "execution_count": 53,
   "id": "exempt-collective",
   "metadata": {
    "execution": {
     "iopub.execute_input": "2021-04-06T21:38:27.038953Z",
     "iopub.status.busy": "2021-04-06T21:38:27.037297Z",
     "iopub.status.idle": "2021-04-06T21:41:00.500663Z",
     "shell.execute_reply": "2021-04-06T21:41:00.499999Z"
    },
    "papermill": {
     "duration": 157.036706,
     "end_time": "2021-04-06T21:41:00.500830",
     "exception": false,
     "start_time": "2021-04-06T21:38:23.464124",
     "status": "completed"
    },
    "tags": []
   },
   "outputs": [
    {
     "data": {
      "image/png": "[encoded data removed]",
      "text/plain": [
       "<Figure size 432x288 with 2 Axes>"
      ]
     },
     "metadata": {},
     "output_type": "display_data"
    },
    {
     "name": "stdout",
     "output_type": "stream",
     "text": [
      "              precision    recall  f1-score   support\n",
      "\n",
      "           0       0.60      0.43      0.50      1066\n",
      "           1       0.61      0.66      0.64      4090\n",
      "           2       0.79      0.84      0.82     11951\n",
      "           3       0.68      0.60      0.64      4952\n",
      "           4       0.63      0.52      0.57      1351\n",
      "\n",
      "    accuracy                           0.72     23410\n",
      "   macro avg       0.66      0.61      0.63     23410\n",
      "weighted avg       0.72      0.72      0.72     23410\n",
      "\n"
     ]
    }
   ],
   "source": [
    "generate_pred(model,test_input,y_test_bert)"
   ]
  },
  {
   "cell_type": "code",
   "execution_count": 54,
   "id": "recovered-universe",
   "metadata": {
    "execution": {
     "iopub.execute_input": "2021-04-06T21:41:06.784642Z",
     "iopub.status.busy": "2021-04-06T21:41:06.783409Z",
     "iopub.status.idle": "2021-04-06T21:48:13.485760Z",
     "shell.execute_reply": "2021-04-06T21:48:13.486373Z"
    },
    "papermill": {
     "duration": 429.938482,
     "end_time": "2021-04-06T21:48:13.486534",
     "exception": false,
     "start_time": "2021-04-06T21:41:03.548052",
     "status": "completed"
    },
    "tags": []
   },
   "outputs": [
    {
     "data": {
      "text/html": [
       "<div>\n",
       "<style scoped>\n",
       "    .dataframe tbody tr th:only-of-type {\n",
       "        vertical-align: middle;\n",
       "    }\n",
       "\n",
       "    .dataframe tbody tr th {\n",
       "        vertical-align: top;\n",
       "    }\n",
       "\n",
       "    .dataframe thead th {\n",
       "        text-align: right;\n",
       "    }\n",
       "</style>\n",
       "<table border=\"1\" class=\"dataframe\">\n",
       "  <thead>\n",
       "    <tr style=\"text-align: right;\">\n",
       "      <th></th>\n",
       "      <th>PhraseId</th>\n",
       "      <th>Sentiment</th>\n",
       "    </tr>\n",
       "  </thead>\n",
       "  <tbody>\n",
       "    <tr>\n",
       "      <th>0</th>\n",
       "      <td>156061</td>\n",
       "      <td>2</td>\n",
       "    </tr>\n",
       "    <tr>\n",
       "      <th>1</th>\n",
       "      <td>156062</td>\n",
       "      <td>2</td>\n",
       "    </tr>\n",
       "    <tr>\n",
       "      <th>2</th>\n",
       "      <td>156063</td>\n",
       "      <td>2</td>\n",
       "    </tr>\n",
       "    <tr>\n",
       "      <th>3</th>\n",
       "      <td>156064</td>\n",
       "      <td>2</td>\n",
       "    </tr>\n",
       "    <tr>\n",
       "      <th>4</th>\n",
       "      <td>156065</td>\n",
       "      <td>3</td>\n",
       "    </tr>\n",
       "    <tr>\n",
       "      <th>...</th>\n",
       "      <td>...</td>\n",
       "      <td>...</td>\n",
       "    </tr>\n",
       "    <tr>\n",
       "      <th>66287</th>\n",
       "      <td>222348</td>\n",
       "      <td>1</td>\n",
       "    </tr>\n",
       "    <tr>\n",
       "      <th>66288</th>\n",
       "      <td>222349</td>\n",
       "      <td>1</td>\n",
       "    </tr>\n",
       "    <tr>\n",
       "      <th>66289</th>\n",
       "      <td>222350</td>\n",
       "      <td>2</td>\n",
       "    </tr>\n",
       "    <tr>\n",
       "      <th>66290</th>\n",
       "      <td>222351</td>\n",
       "      <td>2</td>\n",
       "    </tr>\n",
       "    <tr>\n",
       "      <th>66291</th>\n",
       "      <td>222352</td>\n",
       "      <td>1</td>\n",
       "    </tr>\n",
       "  </tbody>\n",
       "</table>\n",
       "<p>66292 rows × 2 columns</p>\n",
       "</div>"
      ],
      "text/plain": [
       "       PhraseId  Sentiment\n",
       "0        156061          2\n",
       "1        156062          2\n",
       "2        156063          2\n",
       "3        156064          2\n",
       "4        156065          3\n",
       "...         ...        ...\n",
       "66287    222348          1\n",
       "66288    222349          1\n",
       "66289    222350          2\n",
       "66290    222351          2\n",
       "66291    222352          1\n",
       "\n",
       "[66292 rows x 2 columns]"
      ]
     },
     "execution_count": 54,
     "metadata": {},
     "output_type": "execute_result"
    }
   ],
   "source": [
    "submission = generate_submission(model,sub_input,df_submission,\"bert_model_output\",True)\n",
    "submission"
   ]
  }
 ],
 "metadata": {
  "kernelspec": {
   "display_name": "Python 3",
   "language": "python",
   "name": "python3"
  },
  "language_info": {
   "codemirror_mode": {
    "name": "ipython",
    "version": 3
   },
   "file_extension": ".py",
   "mimetype": "text/x-python",
   "name": "python",
   "nbconvert_exporter": "python",
   "pygments_lexer": "ipython3",
   "version": "3.6.13"
  },
  "papermill": {
   "default_parameters": {},
   "duration": 7459.709627,
   "end_time": "2021-04-06T21:48:21.604776",
   "environment_variables": {},
   "exception": null,
   "input_path": "__notebook__.ipynb",
   "output_path": "__notebook__.ipynb",
   "parameters": {},
   "start_time": "2021-04-06T19:44:01.895149",
   "version": "2.3.2"
  }
 },
 "nbformat": 4,
 "nbformat_minor": 5
}
